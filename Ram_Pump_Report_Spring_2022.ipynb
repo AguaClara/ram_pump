{
  "nbformat": 4,
  "nbformat_minor": 0,
  "metadata": {
    "colab": {
      "name": "Ram Pump Report Spring 2022",
      "provenance": [],
      "collapsed_sections": [],
      "include_colab_link": true
    },
    "kernelspec": {
      "name": "python3",
      "display_name": "Python 3"
    }
  },
  "cells": [
    {
      "cell_type": "markdown",
      "metadata": {
        "id": "view-in-github",
        "colab_type": "text"
      },
      "source": [
        "<a href=\"https://colab.research.google.com/github/AguaClara/ram_pump/blob/master/Ram_Pump_Report_Spring_2022.ipynb\" target=\"_parent\"><img src=\"https://colab.research.google.com/assets/colab-badge.svg\" alt=\"Open In Colab\"/></a>"
      ]
    },
    {
      "cell_type": "markdown",
      "metadata": {
        "id": "sNv8dIrSCc6X"
      },
      "source": [
        "# AguaClara Research Report & Manual Template\n",
        "#### March 1st, 2022"
      ]
    },
    {
      "cell_type": "markdown",
      "metadata": {
        "id": "TLAmaRBfCmiy"
      },
      "source": [
        "# Team Name, Semester Year\n",
        "#### Authors: Katie Lee, Aleksandra Marjanovic, and Zachary Marshall \n",
        "#### Date March 1st, 2022\n"
      ]
    },
    {
      "cell_type": "markdown",
      "metadata": {
        "id": "BfeU4k7OCphn"
      },
      "source": [
        "## Abstract\n",
        "  The team’s goal for the semester is to create a more effective model by collecting data to observe the relationship between factors that were not accounted for in previous models. Specifically, the focus will be to analyze the effect of driving head flow rates on the cycle time and optimal spring configuration. In order to do this, experiments will be conducted to observe and establish the relationship between spring lengths and terminal velocity of free-flowing water through the ram pump. Essentially, this semester’s work would make water plant implementation a smoother process by providing a method of calibration according to the initial flow rate of water in the treatment plant \n"
      ]
    },
    {
      "cell_type": "markdown",
      "metadata": {
        "id": "EqtwU-gRCrj9"
      },
      "source": [
        "## Introduction\n",
        "  In its simplest form, the mission of AguaClara is to increase the accessibility of clean water. This mission presents unique challenges as many water treatment plants are designed to operate in high income areas. However, AguaClara strives to design a plant that can be implemented in almost any community. The plants that have been implemented so far are almost entirely gravity powered, meaning the plants can be implemented in communities without access to electricity. Yet, with a lack of electricity often comes an increase in manual labor. Specifically, the Ram Pump subteam hopes to improve the design by implementing a gravity powered pump (ram pump) into the system, so that a certain amount of the clean water is returned into the chemical stock tanks. Currently, plant operators use a bucket to scoop the clean water from the output and pour the specified amount into the chemical stock tank. Although effective, this task is a tedious process since the height difference between the clean water output and chemical stock tank is six meters.\n",
        "\n",
        "  Up to this point, previous Ram Pump teams have designed and implemented a vertical ram Pump, theoretically determined that the optimal efficiency occurs when the cycle time is minimized and the diameter of the drive pipe is the same that of the effluent pipe, and have experimentally found the optimal spring heights (given the spring constant) for the flow rate of the water in AguaClara’s laboratory. For more information on vertical ram Pumps and previous subteams work visit AguaClara’s github. However, there also have been setbacks which have halted certain data from being collected. Mainly, the sump pump, which is implemented in the laboratory setup for experimentation, has stopped working, and the computers have begun to wear down. In result, the priorities of the Ram Pump subteam have been to replace the sump pump and computer, as well as complete other necessary maintenance on the laboratory equipment so that more data can be collected. \n",
        "\n",
        "  Going forward, the best course of action should be to apply the knowledge that has been acquired by previous subteams so that the ram pump can be implemented in the water treatment plants. More specifically, this means designing and conducting an experiment in order to see how different flow rates affect the cycle time, closed time, and open time of the ram pump and how the springs need to be adjusted to optimize these times depending on the flow rate of the water through the water treatment plant. Additionally, the Ram Pump team hopes to determine how fast the springs will deteriorate in the system, and if the flow rate of the water through the ram pump determines how long the springs will remain effective.  In totality, the data collected from this experiment would make it easier for plant operators to implement and fix the ram pump.\n",
        "\n"
      ]
    },
    {
      "cell_type": "code",
      "source": [
        ""
      ],
      "metadata": {
        "id": "RqbeNP_-8cQb"
      },
      "execution_count": null,
      "outputs": []
    },
    {
      "cell_type": "markdown",
      "metadata": {
        "id": "FLDOXtNqCtAW"
      },
      "source": [
        "## Literature Review and Previous Work\n",
        "**Previous to Summer 2021** Previous groups fabricated operational hydraulic ram pumps with a vertical design, rather than the traditional horizontal hydraulic ram pump design. The vertical design allows for easier implementation and adjustment because it avoids dismantling the pre-existing plant. For each adaptation or change to the design, plant operators will not have to physically dismantle the entire system and halt the production of filtered water for the community.\n",
        "AguaClara’s mission is to provide clean water access consistently, and in order to keep the process constant and prevent a single pause in production, the ram pump’s vertical design was proposed and implemented.\n",
        "The design process involved several iterations, primarily focused on the improvement of the spring configuration. The spring configuration would determine the oscillation of the opening and closing of the valve, in which the water flows to the chemical stock tank or to the filtered water pool. The initial design involved identifying a single spring’s ideal spring constant in order to produce the highest volumetric flow rate at the effluent. During the Fall 2018 semester, the team focused on the theoretical calculations and successfully estimated the ideal spring constant by taking into account the forces caused by the water falling through the drive pipe and against the check valve. By experimentally measuring the spring forces required to open and close the valve, the error could be quantified.\n",
        "The Spring and Fall 2019 teams focused their efforts on creating an experimental setup that would test whether the ideal spring corresponded to the maximum volumetric effluent flow. Originally, the spring system was a single spring at the valve, however adjusting or changing the spring required the dismantling of the inner parts of the ram pump. Therefore, a cable or a slack connecting the spring system and the plate was added, as well as other springs to account for varying force. This way, the springs can be adjusted independently of the rest of the system. In order to optimize these springs, the equilibrium length of the springs would be adjusted simply using clamps and a ruler.\n",
        "\n",
        "<center>\n",
        "<img src=\"https://raw.githubusercontent.com/AguaClara/ram_pump/master/Fall%202019/Pictures/ACRamPumpFrontView1.png\" height=400>\n",
        "\n",
        "Figure 1. Shematic diagram of lab ram pump\n",
        "\n",
        "</center>\n",
        "\n",
        "**Summer 2021**\n",
        "An experiment was conducted to assess the existing three-spring system by testing for its optimum value of flow rate. This was done so by setting the eyebolts, which controls the equilibrium length of the three springs, as the independent variable and the flow rate as the dependent variable. As the eye bolts are turned, making the equilibrium length of the spring longer, the flow rate can be measured using the air chamber in the experimental model of the ram pump. However, the data proved that with the number of turns of the eyebolts, there was no optimum in the values of flow rate. The RPM that was induced by the golander pump was also decreasing with each trial and there was no rationale behind the decrease in performance. With an unclear optimum and unsteady mechanics of the golander pump, there was a lack of improvement of the system and an inconclusive method of evaluating the system in place. \n",
        "Subsequently, a second experiment was conducted involving the springs in the previous experiment, however with the weak and strong springs in parallel. The pressure in the air chamber as well as the RPM of the golander pump were measured using this new spring system and there were new issues that arose. Due to the vertical nature of the springs, there were oscillations that were observed in the data of the air chamber. Macro-oscillations were caused by the movement of the entire spring system because there was not enough constant spring force keeping the system statically in place. \n",
        "\n",
        "<center>\n",
        "<img src=\"https://raw.githubusercontent.com/AguaClara/ram_pump/027fb8386298a52e36f18620beba680b73e1e6fe/Summer%202021/Pictures/Three%20Spring%20System.jpg\" height=300>\n",
        "<img src=\"https://raw.githubusercontent.com/AguaClara/ram_pump/master/Summer%202021/Pictures/Spring%20Redesign%20-%20Schmatic%20.jpg\" height=300>\n",
        "\n",
        "Figure 2. Old three-spring system vs. new weak-strong spring system\n",
        "\n",
        "</center>\n",
        "\n",
        "Micro-oscillations were a result of the opening and closing of the valve, primarily done by the bottom stronger spring. These oscillations prevented the golander pump from finding a steady RPM that would allow the water to shoot up to 600 cm. \n",
        "\n",
        "A third and final experiment addressed the oscillations in the previous experiment by implementing a stronger bottom spring to keep the entire system in place. This prevented the oscillations, therefore searching for an optimum was the next goal. Varying combinations of spring lengths were set in place in order to find the optimum as well as classify points of failure. Then, Hooke’s Law was used to find the optimum spring force given the optimal spring length values and the known spring constants of both the weak and strong spring. With the optimum flow rate and spring configuration found experimentally, a mathematical theoretical model was sought to calculate the efficiency of the system. \n",
        "\n",
        "The theoretical model’s goal was to find an optimal flow rate based on mathematical modeling and compare it to the experimental optimal flow rate. This comparison will serve as an efficiency calculation of the experimental setup and act as a segue for future modifications that can be implemented into the setup. To start, the theoretical model required the measurement of the terminal velocity, which was found using the dimensions and measurements of the experimental setup. Then using mathematical derivations and functions for velocity, it was integrated in order to find the function of flow rate with respect to the fraction of the velocity of the closed valve and the fraction of the velocity of the open valve, x and y respectively. Using mathematical modeling software, these functions were graphed and arbitrary values of the x and y values were given to conclude an optimal flow rate. However, this function did not account for a couple of assumptions. One assumption being that the y value or fraction of the velocity was equal to zero because the time it took for the valve to open was close to zero. Although a function and an optimal flow rate was determined, the validity of the theoretical model in terms of realism was lacking. This led to the development of an improved theoretical model in the Fall 2021 team. \n",
        "\n",
        "**Fall 2021** Creating a more accurate theoretical model meant that there would be more factors to consider in the calculation for flow rate and model efficiency. Two of the major assumptions that the team wanted to account for was to not assume that the velocity of the water at the open state of the stop valve was zero and that the time that it takes for the stop valve to fully close and fully open is zero. The structure of their approach was an alternation between theoretical and experimental calculations to pinpoint where our theoretical model and experimental model were different. \n",
        "\n",
        "  The first step was to determine a value for terminal velocity that was based on theoretical concepts and not performative data, so a physics approach was applied. Using Bernoulli’s equation,  a theoretical value for the terminal velocity based on fluid behavior was formed. Afterwards, an experiment was performed to measure the terminal velocity using a simple stopwatch and volume of water approximation. Multiple trials were performed to conclude the values for velocity and flow rate, also at different initial heights of water in the head tank to see if starting head would affect the resulting flow rate. It was found that the starting height in the head tank did not have an effect on the flow rate and velocity. Those empirical values were then used to find a Reynold’s number, to quantify the turbulence of the water in the drive pipe. The value for Reynold’s number was found to be turbulent, therefore it showed that the theoretical model did need to account for the turbulent behavior of the water when traveling in the drive pipe. \n"
      ]
    },
    {
      "cell_type": "markdown",
      "metadata": {
        "id": "A9c0Dr8rCujT"
      },
      "source": [
        "## Methods\n",
        "Explain the techniques you have used to acquire additional data and insights. Reserve fine detail for the Manual at the end of the report, but use this section to give an overview with enough detail for the reader to understand your Results and Analysis. Be especially careful to detail the conditions your experiments were conducted under, as this information is especially important for interpreting your results.\n",
        "\n",
        "Below, some example sections are given. Sectioning the report is meant to keep similar information together.  Continue making sections as necessary, or delete sections if you do not need them. Feel free to add subsubsections to further delineate the information. For example, under the Experimental Apparatus section below, the EStaRS team might consider having sections such as \"Filter Design\" and \"Filter Fabrication\"."
      ]
    },
    {
      "cell_type": "markdown",
      "metadata": {
        "id": "P1KPU32VCw94"
      },
      "source": [
        "### Experimental Apparatus\n",
        "The current laboratory Ram Pump will be used to build a mathematical model for the relationship between flow rate and spring constant needed to optimize efficiency. To alter the flow rate of the water through the sump pump, the throttle valve will be adjusted incrementally (certain angle of rotation), and the corresponding flow rate at each increment will be determined. The flow rate at different angles will be determined by clogging the drain in the head tank that flows into the drive pipe, and letting the sump pump run for a specified amount of time. Then the volume of the water collected in the head tank will be calculated by letting the water flow through the drive pipe and into a large beaker that is suspended in the waste bucket. Since the volume of water collected and the time over which the water was collected are known, the flow rate can be calculated from the data \n",
        "\n",
        "$Flow Rate = [\\frac{\\Delta Volume}{\\Delta Time}]$\n",
        "\n",
        "\n",
        "Once the flow rates have been calculated, the second experiment can be conducted. Beforehand, set a list of heights of the spring for which the efficiency will be calculated. Then, run the same flow rate at each spring height. However, in order for the flow rates to be true to calculation, the water cannot be collected in the head tank. Therefore, a new pipe must be constructed that attaches from the sump pump pipe directly into the drive pipe. Once this pipe has been fabricated, determine the efficiency of the ram pump by observing the pressure in the air chamber; isolate the two spring heights that result in a pressure which is closest to pressure that corresponds to six meters of head. From there, create a new set of five spring heights between the two heights that were deemed to be most efficient, and determine the spring height in this range that results in the pressure closest to the desired pressure. Repeat this process for each of the different flow rates that were calculated in the first part of this experiment. \n",
        "\n",
        "A new sump pump will be implemented into the labaratory model to replace the non-functioning one. \n",
        "\n"
      ]
    },
    {
      "cell_type": "markdown",
      "metadata": {
        "id": "8WdhCMcNC00a"
      },
      "source": [
        "\n",
        "### Procedure\n",
        "The objective of our procedure is to determine the relationship between the terminal velocity and optimal spring configuration. There are two methods of completing this objective and each method requires a different alteration in the current lab setup. \n",
        "\n",
        "1. Creating a loop between the sump pump pipe and the drive pipe to eliminate the intermediary space in the head tank. The head tank allows the water to accumulate and only allow the water to flow through the drive pipe at the same exact flow rate, but we want to be able to make the flow rate induced by the sump pump into a variable. From there, we can drill a small hole that will only allow a, hypothetically, negligible amount of water to escape from the connected pipes and thread the spring cord. \n",
        "\n",
        "2. The second option is changing the diameter of the drive pipe. Flow rate is dependent on the cross sectional area of the drive pipe, so altering the diameter would allow us to manipulate the flow rate accordingly. \n",
        "After either of these configurations, we have the ability to control the terminal velocity. At varying terminal velocities, we can test combinations of spring configurations to find the optimal one that would emit the highest flow rate. Then, we can model these two variables on a graph and potentially map out the relationship between terminal velocity and spring lengths. This way, plant operators at AguaClara plants will be able to calibrate the springs in the ram pump depending on the flow rate of the water entering the ram pump. \n",
        "\n"
      ]
    },
    {
      "cell_type": "markdown",
      "metadata": {
        "id": "TPiP9gijC3GV"
      },
      "source": [
        "## Results and Analysis\n",
        "Present an observation (results), then explain what happened (analysis).  Each paragraph should focus on one aspect of your results and interpret that result. In other words, there should not be two distinct paragraphs, but one paragraph containing one result and the interpretation and analysis of this result. Here are some guiding questions for results and analysis:\n",
        "\n",
        "When describing your results, present your data, using the guidelines below:\n",
        "* What happened? What did you find?\n",
        "* Show your experimental data in a professional way (see Figure Requirements).\n",
        "\n",
        "After describing a particular result, within a paragraph, go on to connect your work to fundamental physics, chemistry, statics, fluid mechanics, or whatever field is appropriate. Analyze your results and compare with theoretical expectations; or, if you have not yet done the experiments, describe your expectations based on established knowledge.\n",
        "* Why did you get those results/data?\n",
        "* Did these results line up with expectations?\n",
        "* What went wrong?\n",
        "* If the data do not support your hypothesis, is there another hypothesis that describes your new data?\n",
        "\n",
        "Include implications of your results. How will your results influence the design of AguaClara plants? If possible provide clear recommendations for design changes that should be adopted.\n"
      ]
    },
    {
      "cell_type": "markdown",
      "metadata": {
        "id": "tN-yJhe_C3pS"
      },
      "source": [
        "### Figure requirements\n",
        "The [Data Analysis in Python](https://aguaclara.github.io/aguaclara_tutorial/python/data-analysis.html) page of the AguaClara Tutorial wiki pages shows how to create graphs in Python to meet these requirements. Make sure to read the sections on [Plotting with Matplotlib](https://aguaclara.github.io/aguaclara_tutorial/python/data-analysis.html#plotting-with-matplotlib) and, if you are working with ProCoDA data files, [Reading ProCoDA Data with the AguaClara Package](https://aguaclara.github.io/aguaclara_tutorial/python/data-analysis.html#reading-procoda-data-with-the-aguaclara-package).\n",
        "\n",
        "Basics\n",
        "- Create your graphs using Python. Include the code for your graph in the Python Code section of your report.\n",
        "- Place a caption with a brief description below the graph. Add this caption using Markdown in Colab, not in your graphing software.\n",
        "- Insert the graph in your report after the first paragraph with a reference to it.\n",
        "\n",
        "Appearance\n",
        "- Use a white background.\n",
        "- Use the same font in the graphs as you use in the text of the report.\n",
        "- Scale the size of the graph so it is large enough to see the data and read the text without having to follow a link to see a larger image. Avoid using hyperlinks on images, because an export to Microsoft Word will not include the image.\n",
        "\n",
        " Axes\n",
        " - Data with x and y values should be presented using an xy scatter plot.\n",
        " - Label all axes and include units.\n",
        " - Axis scale labels should be in the margin of the graph, not inside the graph border.\n",
        " - If the x-axis is time, then make time zero the beginning of the test.\n",
        " - Eliminate ranges of the x and y axes that are not used or meaningful.\n",
        "\n",
        "Data Representation\n",
        " - Use data symbols, not a line, to show discrete data points.\n",
        " - However, if there is so much data that the symbols overlap, it is better to connect the data points with a line and not show the data symbols.\n",
        "\n",
        "Multiple Plots\n",
        " - When presenting multiple plots on a single graph make sure that it is easy to distinguish the plots using the legend.\n",
        "\n",
        "Curve Fitting\n",
        " - If curve fitting is used, explain why and include the equation elsewhere in the report.\n",
        " - The model or theoretical curve should be a smooth curve without data points.\n",
        "\n",
        "Here is an example graph:\n",
        "\n",
        " <center>\n",
        "   <img src=\"https://raw.githubusercontent.com/AguaClara/team_resources/master/Images/Turbidity.png\">\n",
        " </center>\n",
        "\n",
        " Figure 3. Descriptive captions are very important for figures. The code used to create this graph can be found in the Python Code section of this report."
      ]
    },
    {
      "cell_type": "markdown",
      "metadata": {
        "id": "4m-fx7GnC6a-"
      },
      "source": [
        "## Conclusions\n",
        "Explain what you have learned and how that influences your next steps. Why does what you discovered matter to AguaClara?\n",
        "\n",
        "Make sure that you have defended your conclusions with facts and results."
      ]
    },
    {
      "cell_type": "markdown",
      "metadata": {
        "id": "QbOeP4KiC7p2"
      },
      "source": [
        "## Future Work\n",
        "Describe your plan of action for the next several weeks of research. Detail the next steps for this team. How can AguaClara use what you discovered for future projects? Your suggestions for challenges for future teams are most welcome. Should research in this area continue?"
      ]
    },
    {
      "cell_type": "markdown",
      "metadata": {
        "id": "fZyCYDraC80B"
      },
      "source": [
        "## Bibliography\n",
        "Logan, B. E., Hermanowicz, S. W., & Parker,A. S. (1987). A Fundamental Model for Trickling Filter Process Design. Journal (Water Pollution Control Federation), 59(12), 1029–1042."
      ]
    },
    {
      "cell_type": "markdown",
      "metadata": {
        "id": "oDYGZ4TkC-H2"
      },
      "source": [
        "# Manual\n",
        "The goal of this section is to provide all of the guidance that would be necessary for a future team to pick up your work where you left off. Please try to be thorough and put yourselves in the shoes of a newcomer to the project. Below are some recommended sections, but the manual will likely take a slightly different form for each team."
      ]
    },
    {
      "cell_type": "markdown",
      "metadata": {
        "id": "kfka8Y62C_y-"
      },
      "source": [
        "## Fabrication Details\n",
        "Include any information related to the fabrication of equipment, technologies, or experimental apparatuses, such as\n",
        "\n",
        "* materials, with dimensions\n",
        "* fabrication methods and the purpose of each step\n",
        "* complications and constraints in construction\n",
        "* revisions made to a previous design, with a reference to the report where the design is described\n",
        "* appropriate safety precautions"
      ]
    },
    {
      "cell_type": "markdown",
      "metadata": {
        "id": "Gi1Zhpu9DBSv"
      },
      "source": [
        "## Special Components\n",
        "If your subteam uses a particular part that is unique and you could foresee a future subteam needing to order it or learn more about it, please include basic information such as its vendor, its catalog/item number, and a link to any documentation."
      ]
    },
    {
      "cell_type": "markdown",
      "metadata": {
        "id": "OH4T3NMQDE84"
      },
      "source": [
        "## Experimental Methods\n",
        "### Set-up\n",
        "Step 1.\n",
        "* Put tasks in a sequential order.\n",
        "* It is okay to have sub-lists.\n",
        "  - Like this.\n",
        "\n",
        "### Experiment\n",
        "Step 1.\n",
        "\n",
        "### Cleaning Procedure\n",
        "Step 1."
      ]
    },
    {
      "cell_type": "markdown",
      "metadata": {
        "id": "7Nhn0HGZpXsy"
      },
      "source": [
        "## Experimental Checklist\n",
        "Another potential section could include a list of things that you need to check before running an experiment."
      ]
    },
    {
      "cell_type": "markdown",
      "metadata": {
        "id": "cNK5GnhVpb74"
      },
      "source": [
        "## ProCoDA Method File\n",
        "\n",
        "**Upload your ProCoDA method file to your Github repository and provide a link it in your report.**\n",
        "\n",
        "Use the rest of this section to explain your method file. Your explanation can be broken up into several components as shown below:\n",
        "\n",
        "### States\n",
        "Here, you should describe the function of each state in your method file, both in terms of its overall purpose and also in terms of the details that make it distinct from other states. For example:\n",
        "\n",
        " - **OFF**: Resting state of ProCoDA. All sensors, relays, and pumps are turned off.\n",
        "\n",
        "### Set Points\n",
        "Here, you should list the set points used in your method file and explain their use as well as how each was calculated."
      ]
    },
    {
      "cell_type": "markdown",
      "metadata": {
        "id": "HCNXi5uiDFsw"
      },
      "source": [
        "## Python Code\n",
        "\n",
        "In this section, provide any code that was a significant part of your research, including in making theoretical calculations, determining parameters for your experiment, or analyzing your data. Make sure to display all outputs, as shown below."
      ]
    },
    {
      "cell_type": "code",
      "metadata": {
        "id": "CsiQ1OupEI4P",
        "outputId": "f5f728b9-37a3-475c-aef4-85cf35e55de5",
        "colab": {
          "base_uri": "https://localhost:8080/",
          "height": 252
        }
      },
      "source": [
        "!pip install aguaclara\n",
        "import aguaclara as ac\n",
        "from aguaclara.core.units import u\n",
        "import matplotlib.pyplot as plt"
      ],
      "execution_count": null,
      "outputs": [
        {
          "output_type": "stream",
          "text": [
            "Requirement already satisfied: aguaclara in /usr/local/lib/python3.6/dist-packages (0.2.0)\n",
            "Requirement already satisfied: scipy in /usr/local/lib/python3.6/dist-packages (from aguaclara) (1.4.1)\n",
            "Requirement already satisfied: urllib3 in /usr/local/lib/python3.6/dist-packages (from aguaclara) (1.24.3)\n",
            "Requirement already satisfied: pandas in /usr/local/lib/python3.6/dist-packages (from aguaclara) (0.25.3)\n",
            "Requirement already satisfied: pint==0.8.1 in /usr/local/lib/python3.6/dist-packages (from aguaclara) (0.8.1)\n",
            "Requirement already satisfied: matplotlib in /usr/local/lib/python3.6/dist-packages (from aguaclara) (3.1.3)\n",
            "Requirement already satisfied: numpy>=1.13.3 in /usr/local/lib/python3.6/dist-packages (from scipy->aguaclara) (1.17.5)\n",
            "Requirement already satisfied: python-dateutil>=2.6.1 in /usr/local/lib/python3.6/dist-packages (from pandas->aguaclara) (2.6.1)\n",
            "Requirement already satisfied: pytz>=2017.2 in /usr/local/lib/python3.6/dist-packages (from pandas->aguaclara) (2018.9)\n",
            "Requirement already satisfied: kiwisolver>=1.0.1 in /usr/local/lib/python3.6/dist-packages (from matplotlib->aguaclara) (1.1.0)\n",
            "Requirement already satisfied: cycler>=0.10 in /usr/local/lib/python3.6/dist-packages (from matplotlib->aguaclara) (0.10.0)\n",
            "Requirement already satisfied: pyparsing!=2.0.4,!=2.1.2,!=2.1.6,>=2.0.1 in /usr/local/lib/python3.6/dist-packages (from matplotlib->aguaclara) (2.4.6)\n",
            "Requirement already satisfied: six>=1.5 in /usr/local/lib/python3.6/dist-packages (from python-dateutil>=2.6.1->pandas->aguaclara) (1.12.0)\n",
            "Requirement already satisfied: setuptools in /usr/local/lib/python3.6/dist-packages (from kiwisolver>=1.0.1->matplotlib->aguaclara) (45.1.0)\n"
          ],
          "name": "stdout"
        }
      ]
    },
    {
      "cell_type": "markdown",
      "metadata": {
        "id": "NtF6hMF9EkG2"
      },
      "source": [
        "### Code for Figure 3"
      ]
    },
    {
      "cell_type": "code",
      "metadata": {
        "id": "CP_A9n8SDHf1",
        "outputId": "42a061d2-3675-49eb-c7be-44e07d10ad51",
        "colab": {
          "base_uri": "https://localhost:8080/",
          "height": 300
        }
      },
      "source": [
        "path = \"https://raw.githubusercontent.com/AguaClara/team_resources/master/Data/datalog%206-14-2018.xls\"\n",
        "\n",
        "time = ac.column_of_time(path=path, start=2250, end=5060).to(u.hr)\n",
        "influent_turbidity = ac.column_of_data(path=path, start=2250, column=3, end=5060)\n",
        "effluent_turbidity = ac.column_of_data(path=path, start=2250, column=4, end=5060)\n",
        "\n",
        "# set up multiple subplots with same x-axis\n",
        "fig, ax1 = plt.subplots()\n",
        "ax2 = ax1.twinx()\n",
        "\n",
        "# make the first subplot (Effluent Turbidity vs Time)\n",
        "ax1.set_xlabel(\"Time (hours)\")\n",
        "ax1.set_ylabel(\"Effluent Turbidity (NTU)\")\n",
        "line1, = ax1.plot(time, effluent_turbidity, color=\"blue\")\n",
        "\n",
        "# make the second subplot (Influent Turbidity vs Time)\n",
        "ax2.set_ylabel(\"Influent Turbidity (NTU)\")\n",
        "ax2.set_ylim(60,120)\n",
        "line2, = ax2.plot(time, influent_turbidity, color=\"green\")\n",
        "\n",
        "plt.legend((line1, line2), (\"Effluent\", \"Influent\"))\n"
      ],
      "execution_count": null,
      "outputs": [
        {
          "output_type": "execute_result",
          "data": {
            "text/plain": [
              "<matplotlib.legend.Legend at 0x7f46b9b526a0>"
            ]
          },
          "metadata": {
            "tags": []
          },
          "execution_count": 7
        },
        {
          "output_type": "display_data",
          "data": {
            "image/png": "[encoded data removed]",
            "text/plain": [
              "<Figure size 432x288 with 2 Axes>"
            ]
          },
          "metadata": {
            "tags": []
          }
        }
      ]
    },
    {
      "cell_type": "markdown",
      "metadata": {
        "id": "YWTxs8-PEV2J"
      },
      "source": [
        "### Code for Experimental Design\n",
        "Make sure variables in your code, as well as anything that might not be easily understood by a newcomer, is well commented. Also include the outputs of your code, if applicable and not given earlier in the report."
      ]
    },
    {
      "cell_type": "code",
      "metadata": {
        "id": "qQu_bRDMDLVm",
        "outputId": "4fdda5a6-3b7e-44d8-c795-dd48f3dc7097",
        "colab": {
          "base_uri": "https://localhost:8080/",
          "height": 101
        }
      },
      "source": [
        "import aguaclara as ac\n",
        "from aguaclara.core.units import u\n",
        "\n",
        "# volume per revolution flowing from the pump for PACl (coagulant) stock\n",
        "vol_per_rev_PACl = ac.vol_per_rev_3_stop(\"yellow-blue\")\n",
        "# revolutions per minute of PACl stock pump\n",
        "rpm_PACl = 3 * u.rev/u.min\n",
        "# flow rate from the PACl stock pump\n",
        "Q_PACl = ac.flow_rate(vol_per_rev_PACl, rpm_PACl)\n",
        "\n",
        "# desired system flow rate\n",
        "Q_sys = 2 * u.mL/u.s\n",
        "# desired system concentration of PACl\n",
        "C_sys = 1.4 * u.mg/u.L\n",
        "# a variable representing the reactor and its parameters\n",
        "reactor = ac.Variable_C_Stock(Q_sys, C_sys, Q_PACl)\n",
        "\n",
        "# required concentration of PACl stock\n",
        "C_stock_PACl = reactor.C_stock()\n",
        "# concentration of purchased PACl super stock in lab\n",
        "C_super_PACl = 70.28 * u.g/u.L\n",
        "# dilution factor of PACl super stock necessary to achieve PACl stock\n",
        "# concentration (in L of super stock per L water)\n",
        "dilution = reactor.dilution_factor(C_super_PACl)\n",
        "mL_per_L = dilution * 1000\n",
        "\n",
        "print(\"A reactor with a system flow rate of\", Q_sys, \",\")\n",
        "print(\"a system PACl concentration of\", C_sys, \",\")\n",
        "print(\"and a PACl stock flow rate of\", Q_PACl)\n",
        "print(\"will require a dilution factor of\", round(mL_per_L.magnitude, 3),\n",
        "  \"milliliters of PACl super\")\n",
        "print(\"stock per liter of water for the PACl stock.\")\n"
      ],
      "execution_count": null,
      "outputs": [
        {
          "output_type": "stream",
          "text": [
            "A reactor with a system flow rate of 2 milliliter / second ,\n",
            "a system PACl concentration of 1.4 milligram / liter ,\n",
            "and a PACl stock flow rate of 0.007442 milliliter / second\n",
            "will require a dilution factor of 5.353 milliliters of PACl super\n",
            "stock per liter of water for the PACl stock.\n"
          ],
          "name": "stdout"
        }
      ]
    },
    {
      "cell_type": "markdown",
      "metadata": {
        "id": "IeQmLmxyDSVY"
      },
      "source": [
        "<!-- DELETE THIS SECTION BEFORE SUBMITTING -->\n",
        "----------------------------------------------\n",
        "## Add/Delete/Change this Template as you see Fit\n",
        "When using this template keep in mind that this serves three purposes. The first is to provide your team feedback on your progress, assumptions, and conclusions. The second is to keep your team focused on what you are learning and doing for AguaClara. Another is to educate future teams on what you've learned and done. This document should be comprehensive, consistent, and well-written. With that in mind, add, subtract, or move sections. Reach out to the RAs and graders for help with figuring out what should or shouldn't include. Focus on how wonderful a reference you are making through this and work hard on communicating amongst yourselves and with future teammates."
      ]
    }
  ]
}