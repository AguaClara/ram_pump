{
  "nbformat": 4,
  "nbformat_minor": 0,
  "metadata": {
    "colab": {
      "name": "RamPumpFall2021FinalReport.ipynb",
      "provenance": [],
      "collapsed_sections": []
    },
    "kernelspec": {
      "name": "python3",
      "display_name": "Python 3"
    }
  },
  "cells": [
    {
      "cell_type": "markdown",
      "metadata": {
        "id": "TLAmaRBfCmiy"
      },
      "source": [
        "# Ram Pump, Fall 2021\n",
        "#### Authors: Ben Knepper, Katie Lee, Zach Marshall \n",
        "#### Date 12/7/21\n"
      ]
    },
    {
      "cell_type": "markdown",
      "metadata": {
        "id": "BfeU4k7OCphn"
      },
      "source": [
        "## Abstract\n",
        "The goal of the Fall 2021 subteam was to improve the efficiency calculations for the ram pump. The previous subteam laid the groundwork for these theoretical calculations, however some idealistic assumptions were made which diminished the validity of their calculated optimal flow rate. A more accurate efficiency is hoped to be determined with a revised methodology that relies on an interplay between experimentation and theoretical calculation. With a more robust theoretical model of the optimal flow rate, a more robust measurement of the ram pump's efficiency can be determined which is important for ensuring the functionality of AguaClara plants."
      ]
    },
    {
      "cell_type": "markdown",
      "metadata": {
        "id": "EqtwU-gRCrj9"
      },
      "source": [
        "## Introduction\n",
        "The primary focus of the ram pump is to bring water from lower elevations to higher elevations with the use of gravity. The ram pump’s purpose in terms of more direct effect is to relieve the burden of labor on the plant operators who are currently manually filling buckets of the filtered water and pouring it down the chemical stock tank to mimic the constant flow. To do this constantly induces a toll on the operators, therefore the development of the ram pump alleviates responsibility and physical labor. \n",
        "\n",
        "Along the way of experimentally testing, there were revelations that would lead to drastic improvements to the ram pump. Specifically, past teams have focused on optimizing the spring system in the ram pump, which controls the oscillations of the valve that determines whether water passes through to the filtered water tank or is pushed back to the chemical stock tank. To optimize these springs, the ram pump team has reached a point where optimization can be completed through measurements of the equilibrium length of the springs. Simplicity in optimizing and calibrating the system eases the process for plant operators and prevents halting or a non-consistent flow of clean, accessible water. \n",
        "\n",
        "The ram pump already elevates the water into the chemical stock tank, so from there it can be used for other purposes beyond the water filtration system. Free flowing water conducted by the ram pump can be used for electricity-free plumbing on the plant. Cutting back on energy and funds used for electricity and instead, using recycled gravitational, waste-free, renewable energy is another gift of AguaClara to the community. \n",
        "\n",
        "Instead of focusing on the already optimized spring system, we decided to take an alternative approach to measure the efficiency of the entire ram pump system by developing a more accurate theoretical model. A majority of our time has been spent reviewing past literature and understanding the mechanisms of the ram pump to increase our understanding of the system to develop our final theoretical model. By comparing the theoretical model to the experimental, we can capture areas that are in need of improvement and work towards reaching full efficiency of the system. "
      ]
    },
    {
      "cell_type": "markdown",
      "metadata": {
        "id": "FLDOXtNqCtAW"
      },
      "source": [
        "## Literature Review and Previous Work\n",
        "**Previous to Summer 2021**\n",
        "Previous groups fabricated operational hydraulic ram pumps with a vertical design, rather than the traditional horizontal hydraulic ram pump design. The vertical design allows for easier implementation and adjustment because it avoids dismantling the pre-existing plant. For each adaptation or change to the design, plant operators will not have to physically dismantle the entire system and halt the production of filtered water for the community. \n",
        "\n",
        "AguaClara’s mission is to provide clean water access consistently, and in order to keep the process constant and prevent a single pause in production, the ram pump’s vertical design was proposed and implemented. \n",
        "\n",
        "The design process involved several iterations, primarily focused on the improvement of the spring configuration. The spring configuration would determine the oscillation of the opening and closing of the valve, in which the water flows to the chemical stock tank or to the filtered water pool. The initial design involved identifying a single spring’s ideal spring constant in order to produce the highest volumetric flow rate at the effluent. During the Fall 2018 semester, the team focused on the theoretical calculations and successfully estimated the ideal spring constant by taking into account the forces caused by the water falling through the drive pipe and against the check valve. By experimentally measuring the spring forces required to open and close the valve, the error could be quantified. \n",
        "\n",
        "The Spring and Fall 2019 teams focused their efforts on creating an experimental setup that would test whether the ideal spring corresponded to the maximum volumetric effluent flow. Originally, the spring system was a single spring at the valve, however adjusting or changing the spring required the dismantling of the inner parts of the ram pump. Therefore, a cable or a slack connecting the spring system and the plate was added, as well as other springs to account for varying force. This way, the springs can be adjusted independently of the rest of the system. In order to optimize these springs, the equilibrium length of the springs would be adjusted simply using clamps and a ruler. \n",
        "\n",
        "<center>\n",
        "<img src=\"https://raw.githubusercontent.com/AguaClara/ram_pump/master/Fall%202019/Pictures/ACRamPumpFrontView1.png\" height=300>\n",
        "\n",
        "Figure 1. Shematic diagram of lab ram pump\n",
        "\n",
        "</center>\n",
        "\n",
        "**Summer 2021**\n",
        "An experiment was conducted to assess the existing three-spring system by testing for its optimum value of flow rate. This was done so by setting the eyebolts, which controls the equilibrium length of the three springs, as the independent variable and the flow rate as the dependent variable. As the eye bolts are turned, making the equilibrium length of the spring longer, the flow rate can be measured using the air chamber in the experimental model of the ram pump. However, the data proved that with the number of turns of the eyebolts, there was no optimum in the values of flow rate. The RPM that was induced by the golander pump was also decreasing with each trial and there was no rationale behind the decrease in performance. With an unclear optimum and unsteady mechanics of the golander pump, there was a lack of improvement of the system and an inconclusive method of evaluating the system in place. \n",
        "Subsequently, a second experiment was conducted involving the springs in the previous experiment, however with the weak and strong springs in parallel. The pressure in the air chamber as well as the RPM of the golander pump were measured using this new spring system and there were new issues that arose. Due to the vertical nature of the springs, there were oscillations that were observed in the data of the air chamber. Macro-oscillations were caused by the movement of the entire spring system because there was not enough constant spring force keeping the system statically in place. \n",
        "\n",
        "<center>\n",
        "<img src=\"https://raw.githubusercontent.com/AguaClara/ram_pump/027fb8386298a52e36f18620beba680b73e1e6fe/Summer%202021/Pictures/Three%20Spring%20System.jpg\" height=300>\n",
        "<img src=\"https://raw.githubusercontent.com/AguaClara/ram_pump/master/Summer%202021/Pictures/Spring%20Redesign%20-%20Schmatic%20.jpg\" height=300>\n",
        "\n",
        "Figure 2. Old three-spring system vs. new weak-strong spring system\n",
        "\n",
        "</center>\n",
        "\n",
        "Micro-oscillations were a result of the opening and closing of the valve, primarily done by the bottom stronger spring. These oscillations prevented the golander pump from finding a steady RPM that would allow the water to shoot up to 600 cm. \n",
        "\n",
        "A third and final experiment addressed the oscillations in the previous experiment by implementing a stronger bottom spring to keep the entire system in place. This prevented the oscillations, therefore searching for an optimum was the next goal. Varying combinations of spring lengths were set in place in order to find the optimum as well as classify points of failure. Then, Hooke’s Law was used to find the optimum spring force given the optimal spring length values and the known spring constants of both the weak and strong spring. With the optimum flow rate and spring configuration found experimentally, a mathematical theoretical model was sought to calculate the efficiency of the system. \n",
        "\n",
        "The theoretical model’s goal was to find an optimal flow rate based on mathematical modelling and compare it to the experimental optimal flow rate. This comparison will serve as an efficiency calculation of the experimental setup and act as a segue for future modifications that can be implemented into the setup. To start, the theoretical model required the measurement of the terminal velocity, which was found using the dimensions and measurements of the experimental setup. Then using mathematical derivations and functions for velocity, it was integrated in order to find the function of flow rate with respect to the fraction of the velocity of the closed valve and the fraction of the velocity of the open valve, x and y respectively. Using mathematical modeling software, these functions were graphed and arbitrary values of the x and y values were given to conclude an optimal flow rate. However, this function did not account for a number of assumptions. One assumption being that the y value or fraction of the velocity was equal to zero because the time it took for the valve to open was close to zero. Although a function and an optimal flow rate was determined, the validity of the theoretical model was questionable. In this case, the goal was not sufficiently met because of broad assumptions that were made, but is a task to complete with more time and research. \n"
      ]
    },
    {
      "cell_type": "markdown",
      "metadata": {
        "id": "A9c0Dr8rCujT"
      },
      "source": [
        "## Methods\n"
      ]
    },
    {
      "cell_type": "markdown",
      "source": [
        "###Experimental Aparatus\n",
        "\n",
        "The experimental apparatus consists of the traditional ram pump setup that past subteams have used. In particular, the equipment we are using consists of current amenities and we anticipate ordering a new fine-tuned sensor to experimentally measure the speed of the water in the drive pipe. Currently, the only way we can extract experimental measurements of this velocity is by using a stopwatch and the length of the drive pipe, as described in the experimental apparatus section. Obviously, this methodology is susceptible to imprecise results. However, we want to match the precision of our experimental data with the precision we are striving for in our theoretical calculations. Therefore, we would like to have access to new flow rate sensors that we could install inside the drive pipe and air chamber and at the bottom of the ram pump.\n",
        "\n",
        "<center>\n",
        "\n",
        "Figure 3. Experimental Aparatus \n",
        "</center>"
      ],
      "metadata": {
        "id": "GL0Dyrf_uYiJ"
      }
    },
    {
      "cell_type": "markdown",
      "metadata": {
        "id": "8WdhCMcNC00a"
      },
      "source": [
        "\n",
        "### Procedure\n",
        "As mentioned, previous subteams have laid the necessary groundwork for a theoretical model of the optimal flow rate of the ram pump. However, two idealistic assumptions were made which limited the accuracy of the theoretical calculations, and prevented a proper comparison between calculated and experimental flow rates. Namely, the previous calculations assumed that 1) the velocity of the water at the open state of the stop valve was zero, and 2) the time it takes for the stop valve to fully close and fully open is zero. In the subsequent reporting period, ram pump subteam members will be focusing on getting rid of these assumptions and accounting for the non-idealistic details of the machine's functionality. After these calculations are completed and compared with experimental data, the actual efficiency of the ram pump will be determined.\t\n",
        "\n",
        "Our overarching methodology will involve going back and forth between theoretical calculations and experimentation. Our procedure will consist of the following steps, and in each step we have a corresponding calculation and experiment:\n",
        "1.   Determine the velocity of the water in the drive pipe at the instant it comes in contact with the stop valve in the open position.\n",
        "  1.   Calculation 1: Use Bernoulli's equation and take into account the length of the pipe, cross-sectional area of the pipe, Reynold’s number, and initial velocity of the water flowing into the pipe from the head tank.\n",
        "  2.   Experiment 1: Conduct multiple trials of pouring a bucket of water directly into the head tank and recording the velocity of the water as it exits the ram pump the head tank was first filled with a known volume of water. Then, the plug was pulled from the drive pipe, allowing water to suddenly flood the drive pipe. At this point the stopwatch was started. Once the small bucket, placed underneath the drive pipe, was nearly full of water, the bucket was removed from the path of the falling water and the timer was stopped. Then the amount of water gathered in the bucket was measured for that given duration. The results and observed velocities are shown in the following section.\n",
        "2.   Determine the time it takes for the valve to reach its closed state using the spring force and friction of the water on the stop valve.\n",
        "  1.   Calculation 2: Use the energy, kinematics, and the dynamics of friction and drag forces acting on the water from the plate, springs, and pipe.\n",
        "  2.   Experiment 2: Infer the cycle time of the stop valve from oscillations in the graph of air pressure in the air chamber\n",
        "3.   Determine the velocity of the water in the drive pipe when the stop valve is in the closed position, which will be nonzero.\n",
        "  1.    Calculation 3: Similar procedure to calculations 1.\n",
        "  2. Experiment 3: Run the ram pump for a duration of one minute and fill up two buckets of water—one with effluent from the ram pump and the other with effluent from the air chamber. From this ratio of water volume, we can compare the velocity of the water exiting the ram pump versus going into the air chamber\n",
        "4.    Determine the time it takes for the valve to reach its open state again by taking into account the friction of water on the plate and the water's nonzero velocity.\n",
        "  1.  Calculation 4: Similar procedure to calculation 2\n",
        "  2.  Experiment 4: Same as experiment 2\n",
        "5.   From the obtained cycle time, calculate the theoretical optimal flow rate\n",
        "  1. Calculation 5: Integrate the cycle time to obtain the flow rate\n",
        "  2. Experiment 5: We use procoda and record the average air pressure in the air chamber in order to determine the experimental flow rate\n",
        "\n",
        "After acquiring the theoretical and actual flow rate values, we can finally calculate the efficiency of the ram pump. Note that in each of the above steps, we will use the results from experiment 3 from the previous subteam and keep the spring system fixed in its optimal stretch configuration.\n",
        "\n"
      ]
    },
    {
      "cell_type": "markdown",
      "metadata": {
        "id": "TPiP9gijC3GV"
      },
      "source": [
        "## Results and Analysis\n",
        "**Experiment 1**\n",
        "<center>\n",
        "\n",
        "Figure 4. Experiment 1 Results \n",
        "</center>\n",
        "\n",
        "We considered three different initial volumes of water in the head tank and conducted five trials for each, keeping the diameter of the drive pipe constant. Using the following equation for flow rate, Q = V/t, where Q is the calculated flow rate, V is the volume of water that elapsed in t amount of time, the flow rate at different volumes of water in the head tank was determined. Volume (V) would be the amount of water that was captured from the drive pipe after the water was poured from the head tank, and t would be the time elapsed as water was being collected. The velocity of the water was calculated by taking the flow rate, and dividing it by the cross sectional area of the drive pipe. In other words we rearranged the flow rate formula to determine velocity. Our goal is to evaluate the velocity of the water when the valve is in an open state, so using our previously calculated value of Q and our known value of A, we are able to determine velocity. \n",
        "\n",
        "As shown in the chart, the average velocities for 6L, 9L, and 12L were 1.89m/s, 1.94m/s, and 1.91m/s respectively. To our surprise, these values are very close to one another with a maximal difference of ~0.05m/s. Therefore, it appears that the velocity of the water at the open position of the valve is independent of the amount of fluid initially in the head tank. A possible explanation for this result is that in each case, the pressure of the system remains the same because the head tank and drive pipe are not sealed and only affected by atmospheric pressure.\n",
        "\n",
        "As such, we averaged all three average velocities to determine the experimental value of the water at the open position of the valve to be 1.92 m/s. \n",
        "\n",
        "From this velocity, we also calculated Reynold's number, which tells us how turbulent the water is as it is exiting the drive pipe:\n",
        "\n",
        "<center>\n",
        "Figure 5. Reynold's Number calculation \n",
        "</center>\n",
        "\n",
        "Given that $ν$ = 1.0023e-6$m^2/s$ for water at room temperature and $l$ = 0.02614$m$, which is the diameter of the pipe, we determined the Reynold's number to be 50,073.6. Any fluid with a Reynold's number above 2,300 is said to be turbulent so we conclude that the water in the drive pipe is fully turbulent as it is leaving the ram pump. Knowing how turbulent the water is in the drive pipe will inform how we approach the calculations for the subsequent steps beyond 1. With a higher Reynold’s number or a more turbulent flow, decreases the efficiency of the hydraulic system because it is further away from ideal fluid behavior. This is especially vital when using Bernoulli’s equation for future steps, because Bernoulli's equation is under the assumption of an inviscid fluid, a fluid in which viscosity is not accounted for and an infinitely high Reynold’s number. This value will also serve as our sense of the behavior of the fluid, especially if friction of the water against the sides of the pipe are non-accounted for. \n",
        "\n",
        "\n",
        "\n",
        "**Calculation 1**\n",
        "\n",
        "In order to find the theoretical final velocity of the water in the open position of the stop valve, we started with the conservation of energy equation for fluids. This is an unsimplified version of Bernoulli's equation that incorporates energy lost through headloss\n",
        "\\begin{align*}\n",
        "  \\frac{p_1}{g\\rho}+z_1+\\alpha_1\\frac{v_1^2}{2g}+h_p=\\frac{p_2}{g\\rho}+z_2+\\alpha_2\\frac{v_2^2}{2g}+h_a\n",
        "\\end{align*}\n",
        "\n",
        "$p_1 = p_2:$ atmospheric pressure \\\\\n",
        "$\\alpha_1 = \\alpha_2 = 1:$ correction factor of kinetic energy \\\\\n",
        "$g = 9.8m/s^2$: acceleration due to gravity \\\\\n",
        "$z_1 = 1.41m$: height at at head tank (length of drive pipe) \\\\\n",
        "$z_2 = 0m:$ height at ram pump \\\\\n",
        "$v_1 = 0m/s:$ initial velocity \\\\\n",
        "$h_p = 0:$ fluid energy of sump pump. We are taking this term to be zero because the amount of water being pumped into the head tank is negligible compared to the amount of water stored in the head tank. \\\\\n",
        "$v_2$: velocity at end of drive pipe (DESIRED QUANTITY) \\\\\n",
        "$h_L$: head loss\n",
        "\n",
        "The head-loss is determined to two factors: friction of the pipe and fluid-fluid collisions. So $h_L = h_e + h_f$ where the fluid-fluid term is given by $h_e=\\frac{v_2^2}{2g}$ and the friction term is given by $h_f = {v_2}^2\\frac{fz_1}{2Dg}$. The coefficient $f$ depends on the Reynold's number, so it has two different formulations depending on whether the water is turbulent or laminar. Because our experimental data showed that the water was turbulent, we used the turbulent formulation: \n",
        "\\begin{align*}\n",
        "  f = \\frac{0.25}{{ln(\\frac{\\epsilon}{3.7D} + \\frac{5.74}{{R_e}^{0.9}})}^2} = \\frac{0.25}{{ln(\\frac{\\epsilon}{3.7D} + \\frac{5.74{\\nu}^{0.9}}{(v_{2}D)^{0.9}})}^2}\n",
        "\\end{align*}\n",
        "\n",
        "where $\\epsilon$ = 0.0015$mm$ is the pipe roughness, $D$ = 0.02614$m$ is the pipe diameter, $\\nu$ = 1.10e-6$m^2/s$ is the fluid kinematic viscosity of water at room temperature.\n",
        "\n",
        "After cancelling terms, subbing in for $h_L$, and simplifying, we isolated $v_2$ giving us\n",
        "\\begin{align*}\n",
        "  v_2=\\sqrt{\\frac{gz_1}{1+\\frac{fz_1}{2D}}}\n",
        "\\end{align*}\n",
        "\n",
        "However, we cannot simply plug-in values and solve for $v_2$ from this equation because $f$ implicily depends on $v_2$ from the Reynold's number. So we have two equations and two unknowns: $f$ and $v_2$. Therefore, we plotted $v_2=\\sqrt{\\frac{gz_1}{1+\\frac{fz_1}{2D}}}$ and $f = \\frac{0.25}{{ln(\\frac{\\epsilon}{3.7D} + \\frac{5.74{\\nu}^{0.9}}{(v_{2}D)^{0.9}})}^2}$ and found their point of intersection.\n",
        "\n",
        "<center>\n",
        "Figure 6. Intersection of $v_2$ and $f$ \n",
        "</center>\n",
        "\n",
        " Evidently, $f = 0.0034$ and $v_2 = 3.56m/s$.\n",
        "\n",
        "Note: All of the above equations we received from the AguaClara textbook https://aguaclara.github.io/Textbook/Review/Review_Fluid_Mechanics.html.\n",
        "\n",
        "**Implications**\n",
        "\n",
        "The current goals of the RAM pump team are to break the ram pump into different systems that can each be analyzed by comparing different experimental values with different theoretical values. For example, comparing the final velocity of the water and the theoretical value for the velocity of the water as it travels through the drive pipe, will let us better understand how accurate our theoretical model for the water’s behavior is. This, and other similar comparisons, are important in understanding the system of the ram pump holistically, because we will be able to break the system into different parts and analyze each with their own efficiency value. Not only will this type of analysis allow for the energy losses of the system to be tracked more precisely, but it will also make it easier for future subteams to know what systems within the ram pump need improvement. \n",
        "\n",
        "It is obvious, though, that our calculated $v_2$ value of 3.56m/s differs significantly from the average velocity of 1.92m/s in Experiment 1. This discrepancy, however, is expected. Experiment 1 measured the velocity of the water as it exits the drive pipe (v exit), whereas the calculation for $v_2$ measures the velocity of the water in the drive pipe at the instant in comes in contact with the stop valve in the open position (v open). We now think that we only need to know v open in order to eventually calculate the optimal flow rate in the air chamber, so a comparison between theory and experiment is not feasible at this time. However, if we later realize we need to theoretically derive v exit and thus compare it with v exit from experiment 1, we have brainstormed how to calculate the loss of energy from head loss as the water flows past the stop valve. Specifically, we would determine the work done by the water on the stop valve from the work done on the stop valve by the spring system. We would then also add the work lost due to eddy currents in the chamber that the water falls through underneath the stop valve before it exits.\n"
      ]
    },
    {
      "cell_type": "markdown",
      "metadata": {
        "id": "4m-fx7GnC6a-"
      },
      "source": [
        "## Conclusions\n",
        "As a result of unanticipated circumstances, this semester we were only able to complete the first step in our procedure. This was predominantly because both the procoda software and ram pump hardware had many malfunctions this semester, so much of our time and focus had to shift to trouble-shooting these issues. First, we had to update the lab computers and procoda in order to make the software compatible. After solving this issue, we then were not able to turn the ram pump on and we discovered that the sump pump was no longer functioning. We reached this conclusion because we tried plugging the sump pump directly into an outline and it still did not turn on, and also during the \"peristaltic on\" state only the golander pump showed a response in procoda and in the \"pump on\" state there was no response. Therefore, we placed an order for a new sump pump and have to wait until it arrives. In addition, we suspected a potential malfunction in the air pressure sensor for the air chamber. When setting up one of our experiments, the air chamber became too full of water and water flowed out of the valve which is connected to the air pressure sensor. However, we predict that the air pressure sensor is still fine because the green film inside is still intact and the water only flowed out of the valve, not into the pressure sensor. Moreover, when the valve is in the closed position and the tube to the pressure sensor is squeezed, the sensor detects a change in pressure. Therefore, we are waiting to replace the pressure sensor until we have a new sump pump and can test one possible malfunction at a time.\n",
        "\n",
        "We have learned the observable relationships between variables such as velocity, cross-sectional area, volume, and flow rate. We’re able to calculate an experimental value for flow rate depending on these values, which can be used for future calculations of the flow rate under different conditions. Our next step would be to calculate the flow rate when the valve is closed, which involves more complexity. However, knowing these relationships, it can give us a better understanding of how to calculate velocity at varying points in the pipe on an experimental and theoretical level. With a definite value of velocity at an open state experimentally, our next step would be to confirm our method for theoretically calculating the velocity at an open state and generate a value. This theoretical value can be compared to our experimental value, and we are able to calculate efficiency of the velocity and potentially, identify a point of improvement or failure in the RAM pump. \n",
        "\n",
        "This discovery can be used to measure the overall efficiency in the pump, which can be used to measure the successes or failures of the RAM pump system. Our process for the future is to calculate our variables experimentally and theoretically simultaneously, in order to deduce areas of needed improvement. For example, if we calculate a theoretical velocity of the open state to be much higher than the experimental value of the velocity of the open state, we can deduce that this variable needs improvement and move forth with adjustments to the RAM pump to fix the issue. Essentially, we are calculating efficiency of the individual parts, then honing down on what can be adjusted on the RAM pump on the plant itself to increase the overall efficiency. \n"
      ]
    },
    {
      "cell_type": "markdown",
      "metadata": {
        "id": "QbOeP4KiC7p2"
      },
      "source": [
        "## Future Work\n",
        "Given our goal of achieving a more precise measure of the efficiency of the ram pump, we believe future work should be directed to the following areas.\n",
        "\n",
        "**Finishing steps in procedure:**\n",
        "\n",
        "First and foremost, future work should be directed towards completing the remaining four steps in the experimental procedure in order to obtain a theoretical value of the optimal flow rate. From this value, the efficiency of the ram pump should be calculated.\n",
        "\n",
        "\n",
        "**Spring configuration:**\n",
        "\n",
        "With a more accurate and precise model of the theoretical flow rate, future subteams could better improve the spring system by testing different configurations and measuring how closely the observed flow rate aligns with the theoretical flow rate.\n",
        "\n",
        "**Operator manual:**\n",
        "\n",
        "In addition, future subteams could collate an operator manual consisting of a step-by-step list of procedures for calculating the efficiency of the RAM Pump and also setting up the optimal spring configuration. Such a manual would be a helpful addition to the AguaClara textbook.\n"
      ]
    },
    {
      "cell_type": "markdown",
      "source": [
        "#Manual"
      ],
      "metadata": {
        "id": "F9EnXVT7Uaz_"
      }
    },
    {
      "cell_type": "markdown",
      "source": [
        "## Experimental Methods\n",
        "### Set-up\n",
        "* Fill the waste bucket with water until the sump pump is covered at least half-way.\n",
        "* Ensure that the RJ45 I/O connections are properly installed to the ProCoDA box.\n",
        "* Install the ProCoDA method file and configure the PID using [this procedure]( https://monroews.github.io/EnvEngLabTextbook/ProCoDA/ProCoDA.html#proportional-integral-derivative-control).\n",
        "\n",
        "### Experiment\n",
        "* Select the file location for short-term experiments and set the data interval to 0.1 seconds.\n",
        "* Change the state to \"Peristaltic On\".\n",
        "* Ensure that the ram pump is operational and the water level in the head tank is at the height of the drain pipe.\n",
        "* Wait until the peristaltic pump speed reaches equilibrium.\n",
        "\n",
        "### Cleaning Procedure\n",
        "* Drain the air chamber by changing the state to \"Peristaltic Only\".\n",
        "* Turn off the peristaltic pump.\n",
        "* If the system will not be used for experimentation for an extended amount of time, remove the water from the waste bucket."
      ],
      "metadata": {
        "id": "Y2nbmcP6Upt3"
      }
    },
    {
      "cell_type": "markdown",
      "source": [
        "## Experimental Checklist\n",
        "* Ensure that all connections between tubing and pipes are secured.\n",
        "* Turn on the peristaltic pump and make sure the sump pump is connected to a relay box."
      ],
      "metadata": {
        "id": "lDRWaW5KUu08"
      }
    }
  ]
}