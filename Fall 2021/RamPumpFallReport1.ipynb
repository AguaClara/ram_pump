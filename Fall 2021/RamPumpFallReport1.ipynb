{
  "nbformat": 4,
  "nbformat_minor": 0,
  "metadata": {
    "colab": {
      "name": "RamPumpFallReport1.ipynb",
      "provenance": [],
      "collapsed_sections": []
    },
    "kernelspec": {
      "name": "python3",
      "display_name": "Python 3"
    }
  },
  "cells": [
    {
      "cell_type": "markdown",
      "metadata": {
        "id": "sNv8dIrSCc6X"
      },
      "source": [
        "# AguaClara Research Report & Manual Template\n",
        "#### November 12th, 2021\n",
        "\n"
      ]
    },
    {
      "cell_type": "markdown",
      "metadata": {
        "id": "TLAmaRBfCmiy"
      },
      "source": [
        "# Team Name, Semester Year\n",
        "#### Authors: Ben Knepper, Katie Lee, Zach Marshall \n",
        "#### Date 11/12/21\n"
      ]
    },
    {
      "cell_type": "markdown",
      "metadata": {
        "id": "BfeU4k7OCphn"
      },
      "source": [
        "## Abstract\n",
        "This semester, our goal is to improve the efficiency calculations for the Ram Pump. Previously, the theoretical calculations made idealistic assumptions of the system, which deterred from the validity of the optimal flow rate. A more accurate efficiency is hoped to be determined with a revised methodology that relies on an interplay between experimentation and calculation. After devoting our time to studying previous literature, now we have completed experimentation and initial calculations in the first step of our methodology. In subsequent weeks, we plan to obtain data for our experimental model, and develop our theoretical model to reach our goal. "
      ]
    },
    {
      "cell_type": "markdown",
      "metadata": {
        "id": "EqtwU-gRCrj9"
      },
      "source": [
        "## Introduction\n",
        "  The primary focus of the RAM pump is to bring water from lower elevations to higher elevations with the use of gravity. The RAM pump’s purpose in terms of more direct effect is to relieve the burden of labor on the plant operators who are currently manually filling buckets of the filtered water and pouring it down the chemical stock tank to mimic the constant flow. To do this constantly induces a toll on the operators, therefore the development of the RAM pump alleviates responsibility and physical labor. \n",
        "\n",
        "  Along the way of experimentally testing, there were revelations that would lead to drastic improvements to the RAM pump. Specifically, past teams have focused on optimizing the spring system in the ram pump, which controls the oscillations of the valve that determines whether water passes through to the filtered water tank or is pushed back to the chemical stock tank. To optimize these springs, the ram pump team has reached a point where optimization can be completed through measurements of the equilibrium length of the springs. Simplicity in optimizing and calibrating the system eases the process for plant operators and prevents halting or a non-consistent flow of clean, accessible water. \n",
        "\n",
        "  The RAM pump already elevates the water into the chemical stock tank, so from there it can be used for other purposes beyond the water filtration system. Free flowing water conducted by the RAM pump can be used for electricity-free plumbing on the plant. Cutting back on energy and funds used for electricity and instead, using recycled gravitational, waste-free, renewable energy is another gift of AguaClara to the community. \n",
        "\n",
        "  Instead of focusing on the already optimized spring system, we decided to take an alternative approach to measure the efficiency of the entire ram pump system by developing a more accurate theoretical model. A majority of our time has been spent reviewing past literature and understanding the mechanisms of the ram pump to increase our understanding of the system to develop our final theoretical model. By comparing the theoretical model to the experimental, we can capture areas that are in need of improvement and work towards reaching full efficiency of the system. \n"
      ]
    },
    {
      "cell_type": "markdown",
      "metadata": {
        "id": "FLDOXtNqCtAW"
      },
      "source": [
        "## Literature Review and Previous Work\n",
        "**Previous to Summer 2021**\n",
        "\n",
        "Previous groups fabricated operational hydraulic ram pumps with a vertical design, rather than the traditional horizontal hydraulic ram pump design. The vertical design allows for easier implementation and adjustment because it avoids dismantling the pre-existing plant. For each adaptation or change to the design, plant operators will not have to physically dismantle the entire system and halt the production of filtered water for the community. AguaClara’s mission is to provide clean water access consistently, and in order to keep the process constant and prevent a single pause in production, the ram pump’s vertical design was proposed and implemented. \n",
        "\n",
        "The design process involved several iterations, primarily focused on the improvement of the spring configuration. The spring configuration would determine the oscillation of the opening and closing of the valve, in which the water flows to the chemical stock tank or to the filtered water pool. The initial design involved identifying a single spring’s ideal spring constant in order to produce the highest volumetric flow rate at the effluent. During the Fall 2018 semester, the team focused on the theoretical calculations and successfully estimated the ideal spring constant by taking into account the forces caused by the water falling through the drive pipe and against the check valve. By experimentally measuring the spring forces required to open and close the valve, the error could be quantified. \n",
        "\n",
        "The Spring and Fall 2019 teams focused their efforts on creating an experimental setup that would test whether the ideal spring corresponded to the maximum volumetric effluent flow. Originally, the spring system was a single spring at the valve, however adjusting or changing the spring required the dismantling of the inner parts of the ram pump. Therefore, a cable or a slack connecting the spring system and the plate was added, as well as other springs to account for varying force. This way, the springs can be adjusted independently of the rest of the system. In order to optimize these springs, the equilibrium length of the springs would be adjusted simply using clamps and a ruler. \n",
        "\n",
        "**Summer 2021**\n",
        "\n",
        "An experiment was conducted to assess the existing three-spring system by testing for its optimum value of flow rate. This was done so by setting the eyebolts, which controls the equilibrium length of the three springs, as the independent variable and the flow rate as the dependent variable. As the eye bolts are turned, making the equilibrium length of the spring longer, the flow rate can be measured using the air chamber in the experimental model of the RAM Pump. However, the data proved that with the number of turns of the eyebolts, there was no optimum in the values of flow rate. The RPM that was induced by the golander pump was also decreasing with each trial and there was no rationale behind the decrease in performance. With an unclear optimum and unsteady mechanics of the golander pump, there was a lack of improvement of the system and an inconclusive method of evaluating the system in place. \n",
        "Subsequently, a second experiment was conducted involving the springs in the previous experiment, however with the weak and strong springs in parallel. The pressure in the air chamber as well as the RPM of the golander pump were measured using this new spring system and there were new issues that arose. Due to the vertical nature of the springs, there were oscillations that were observed in the data of the air chamber. Macro-oscillations were caused by the movement of the entire spring system because there was not enough constant spring force keeping the system statically in place. Micro-oscillations were a result of the opening and closing of the valve, primarily done by the bottom stronger spring. These oscillations prevented the golander pump from finding a steady RPM that would allow the water to shoot up to 600 cm. \n",
        "\n",
        "A third and final experiment addressed the oscillations in the previous experiment by implementing a stronger bottom spring to keep the entire system in place. This prevented the oscillations, therefore searching for an optimum was the next goal. Varying combinations of spring lengths were set in place in order to find the optimum as well as classify points of failure. Then, Hooke’s Law was used to find the optimum spring force given the optimal spring length values and the known spring constants of both the weak and strong spring. With the optimum flow rate and spring configuration found experimentally, a mathematical theoretical model was sought to calculate the efficiency of the system. \n",
        "\n",
        "The theoretical model’s goal was to find an optimal flow rate based on mathematical modelling and compare it to the experimental optimal flow rate. This comparison will serve as an efficiency calculation of the experimental setup and act as a segue for future modifications that can be implemented into the setup. To start, the theoretical model required the measurement of the terminal velocity, which was found using the dimensions and measurements of the experimental setup. Then using mathematical derivations and functions for velocity, it was integrated in order to find the function of flow rate with respect to the fraction of the velocity of the closed valve and the fraction of the velocity of the open valve, x and y respectively. Using mathematical modeling software, these functions were graphed and arbitrary values of the x and y values were given to conclude an optimal flow rate. However, this function did not account for a number of assumptions. One assumption being that the y value or fraction of the velocity was equal to zero because the time it took for the valve to open was close to zero. Although a function and an optimal flow rate was determined, the validity of the theoretical model was questionable. In this case, the goal was not sufficiently met because of broad assumptions that were made, but is a task to complete with more time and research. \n"
      ]
    },
    {
      "cell_type": "markdown",
      "metadata": {
        "id": "A9c0Dr8rCujT"
      },
      "source": [
        "## Methods\n"
      ]
    },
    {
      "cell_type": "markdown",
      "metadata": {
        "id": "P1KPU32VCw94"
      },
      "source": [
        "### Experimental Apparatus\n",
        "The experimental apparatus consists of the traditional RAM pump setup that past subteams have used. In particular, the equipment we are using consists of current amenities and we anticipate ordering a new fine-tuned sensor to experimentally measure the speed of the water in the drive pipe. Currently, the only way we can extract experimental measurements of this velocity is by using a stopwatch and the length of the drive pipe, as described in the experimental apparatus section. Obviously, this methodology is susceptible to imprecise results. However, we want to match the precision of our experimental data with the precision we are striving for in our theoretical calculations. Therefore, we would like to have access to new flow rate sensors that we could install inside the drive pipe and air chamber and at the bottom of the RAM pump. \n",
        "  <center>\n",
        "    ![picture]()\n",
        "  </center>\n",
        "\n",
        "\n"
      ]
    },
    {
      "cell_type": "markdown",
      "metadata": {
        "id": "8WdhCMcNC00a"
      },
      "source": [
        "\n",
        "### Procedure\n",
        "As mentioned, previous subteams have laid the necessary groundwork for a theoretical model of the optimal flow rate of the RAM pump. However, two idealistic assumptions were made which limited the accuracy of the theoretical calculations, and prevented a proper comparison between calculated and experimental flow rates. Namely, the previous calculations assumed that 1) the velocity of the water at the open state of the stop valve was zero, and 2) the time it takes for the stop valve to fully close and fully open is zero. In the subsequent reporting period, RAM pump subteam members will be focusing on getting rid of these assumptions and accounting for the non-idealistic details of the machine's functionality. After these calculations are completed and compared with experimental data, the actual efficiency of the RAM pump will be determined.\t\n",
        "\n",
        "Our overarching methodology will involve going back and forth between theoretical calculations and experimentation. First, we will perform the calculations to obtain the theoretical optimal flow rate. Our technique will consist of the following steps:\n",
        "\n",
        "1. Determine the velocity of the water in the drive pipe at the instant it comes in contact with the stop valve in the open position. In doing so, we will take into account the length of the pipe, cross-sectional area of the pipe, Reynold’s number, and initial velocity of the water flowing into the pipe from the head tank.\n",
        "1. Determine the time it takes for the valve to reach its closed state using the spring force and friction of the water on the stop valve.\n",
        "Determine the velocity of the water in the drive pipe when the stop valve is in the closed position, which will be nonzero.\n",
        "1. Determine the time it takes for the valve to reach its open state again by taking into account the friction of water on the plate and the water's nonzero velocity.\n",
        "1. From the obtained cycle time, calculate the theoretical flow rate.\n",
        "\n",
        "In each step, we will also compare our calculated values with experimental measurements. More specifically, in step one we will also conduct multiple trials of pouring a bucket of water directly into the head tank and recording the velocity of the water as it exits the RAM pump. In steps two and four, we will also infer the cycle time of the stop valve from oscillations in the graph of air pressure in the air chamber. In step three, we will also run the RAM pump for a duration of one minute and fill up two buckets of water—one with effluent from the RAM pump and the other with effluent from the air chamber. From this ratio of water volume, we can compare the velocity of the water exiting the RAM pump versus going into the air chamber. Lastly in step five, we will also use procoda and record the average air pressure in the air chamber in order to determine the experimental flow rate. After acquiring the theoretical and actual flow rate values, we can finally calculate the efficiency of the RAM pump. Note that in each of the above steps, we will use the results from experiment 3 from the previous subteam and keep the spring system fixed in its optimal stretch configuration.\n",
        "\n",
        "So far, we have completed the experimental side of step 1 and are making headway in the theoretical side. To determine the experimental velocity of the water through the drive pipe, the head tank was first filled with a known volume of water. Then, the plug was pulled from the drive pipe, allowing water to suddenly flood the drive pipe. At this point the stopwatch was started. Once the small bucket, placed underneath the drive pipe, was nearly full of water, the bucket was removed from the path of the falling water and the timer was stopped. Then the amount of water gathered in the bucket was measured for that given duration. The results and observed velocities are shown in the following section.\n"
      ]
    },
    {
      "cell_type": "markdown",
      "metadata": {
        "id": "TPiP9gijC3GV"
      },
      "source": [
        "## Results and Analysis\n",
        "  |Trial| Volume of water (L)| Time (s) | Volume Collected (L) |Diameter of pipe| cross sectional area of pipe (m^2)|\tflow rate (L/s)\t|flow rate (m^3/s)|\tvelocity= q/a| \n",
        "  |:----:|:------------------: |:--------------:|:------------:|:-------------:|:------------------------:|:-------------------:|:-----------------------------:|:---------------------------:|\n",
        "  |1|6|3.19|3.05 | 0.02614|0.002147|0.956   |   0.000956|0.445|\n",
        "  |2|6|3.59|3.485|0.02614 | 0.970  |0.002147|   0.000970|0.452|\n",
        "  |3|6|2.45|2.46 | 0.02614| 1.004  |0.002147|\t  0.001004|0.468|\n",
        "\n",
        "  <center>\n",
        "    Figure 4. Above are the values that were experimentally determined \n",
        "  </center>\n",
        "Three trials were conducted, as seen in Figure 4, each with the same starting volume of water that was placed in the head tank, diameter of the drive-pipe, and cross-sectional area of the drive-pipe. Using the following equation for flow rate, Q = V/t, where Q is the calculated flow rate, V is the volume of water that elapsed in t amount of time. Volume would be the amount of water that was captured from the drive pipe after the water was poured from the head tank. Whereas t would be the amount of time the water took to reach the end of the drive pipe from the head tank. Those values were plugged into the flow rate equation to evaluate the value of volumetric flow rate, Q. \n",
        "Another form of flow rate is Q = Av, where A is the cross-sectional area of where the water passes, and v is the velocity of the water. Our goal is to evaluate the velocity of the water when the valve is in an open state, so using our previously calculated value of Q and our known value of A, we are able to determine velocity. The average velocity of the water at an open state was calculated to be 0.455 m/s. The next step would be to calculate the theoretical value of velocity at an open state, then compare and rationalize the differences. \n",
        "\n",
        "**Theoretical Value of Velocity at an Open State**\n",
        "Currently, we are in step 1 of the theoretical calculations side of our methodology. While simultaneously researching fluid dynamics, we have come up with three possible ways to calculate the velocity of the water in the drive pipe when it comes in contact with the stop valve in the open position. As we gain more insight from online research, we will decide which route to take and move onto step 2.\n",
        "Conservation of Energy\n",
        "1. One way of performing this calculation is to use conservation of energy through Bernoulli's equation: P1+1/2v12+gh1=P2+1/2v22+gh2 where P is the pressure at the initial or final positions, ρ is the fluid density, and h is the height of elevation. Knowing the initial pressure values, density of the water, and the height of the water, we are able to formulaically determine a relationship between velocities at different points in the pipe. \n",
        "Kinematics:\n",
        "1. Alternatively, we can use the cross sectional area of a section of falling water in the tube to calculate velocity using classical kinematics equations. The variables would consist of acceleration due to gravity, length of drive pipe, initial velocity as determined by the pressure of water in the head tank.\n",
        "1. Dynamics:\n",
        "In addition, we could rely upon Newton's laws of motion to calculate the various forces acting on a section of water falling through the drive pipe at a certain point in time. This option will likely be conjoined with the kinematics equations to determine the acceleration. In particular, the water will be experiencing force due to gravity, a normal force from water falling from above, a normal force from the walls of the drive pipe, and a drag force from air and viscous drag.\n",
        "\n",
        "After obtaining this velocity at the open state, we will also calculate Reynold's number, which will give us an indication of how turbulent the water is as it is falling in the drive pipe. Knowing how turbulent the water is in the drive pipe will inform how we approach the calculations for the subsequent steps beyond 1. This value will also serve as our sense of the behavior of the fluid, especially if friction of the water against the sides of the pipe are non-accounted for. \n",
        "\n",
        "\n"
      ]
    },
    {
      "cell_type": "markdown",
      "metadata": {
        "id": "4m-fx7GnC6a-"
      },
      "source": [
        "## Conclusions\n",
        "We have learned the observable relationships between variables such as velocity, cross-sectional area, volume, and flow rate. We’re able to calculate an experimental value for flow rate depending on these values, which can be used for future calculations of the flow rate under different conditions. Our next step would be to calculate the flow rate when the valve is closed, which involves more complexity. However, knowing these relationships, it can give us a better understanding of how to calculate velocity at varying points in the pipe on an experimental and theoretical level. With a definite value of velocity at an open state experimentally, our next step would be to confirm our method for theoretically calculating the velocity at an open state and generate a value. This theoretical value can be compared to our experimental value, and we are able to calculate efficiency of the velocity and potentially, identify a point of improvement or failure in the RAM pump. \n",
        "\n",
        "This discovery can be used to measure the overall efficiency in the pump, which can be used to measure the successes or failures of the RAM pump system. Our process for the future is to calculate our variables experimentally and theoretically simultaneously, in order to deduce areas of needed improvement. For example, if we calculate a theoretical velocity of the open state to be much higher than the experimental value of the velocity of the open state, we can deduce that this variable needs improvement and move forth with adjustments to the RAM pump to fix the issue. Essentially, we are calculating efficiency of the individual parts, then honing down on what can be adjusted on the RAM pump on the plant itself to increase the overall efficiency. \n"
      ]
    },
    {
      "cell_type": "markdown",
      "metadata": {
        "id": "QbOeP4KiC7p2"
      },
      "source": [
        "## Future Work\n",
        "Given our goal of achieving a more precise measure of the efficiency of the RAM pump, we believe future work should be directed to the following areas.\n",
        "\n",
        "**Spring configuration:**\n",
        "\n",
        "With a more accurate and precise model of the theoretical flow rate, future subteams could better improve the spring system by testing different configurations and measuring how closely the observed flow rate aligns with the theoretical flow rate.\n",
        "\n",
        "**Operator manual:**\n",
        "\n",
        "In addition, future subteams could collate an operator manual consisting of a step-by-step list of procedures for calculating the efficiency of the RAM Pump and also setting up the optimal spring configuration. Such a manual would be a helpful addition to the AguaClara textbook.\n"
      ]
    }
  ]
}