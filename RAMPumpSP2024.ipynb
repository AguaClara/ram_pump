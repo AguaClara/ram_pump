{
  "nbformat": 4,
  "nbformat_minor": 0,
  "metadata": {
    "colab": {
      "provenance": [],
      "include_colab_link": true
    },
    "kernelspec": {
      "name": "python3",
      "display_name": "Python 3"
    },
    "language_info": {
      "name": "python"
    }
  },
  "cells": [
    {
      "cell_type": "markdown",
      "metadata": {
        "id": "view-in-github",
        "colab_type": "text"
      },
      "source": [
        "<a href=\"https://colab.research.google.com/github/AguaClara/ram_pump/blob/master/RAMPumpSP2024.ipynb\" target=\"_parent\"><img src=\"https://colab.research.google.com/assets/colab-badge.svg\" alt=\"Open In Colab\"/></a>"
      ]
    },
    {
      "cell_type": "code",
      "execution_count": null,
      "metadata": {
        "id": "E6nTYT8vpvV1",
        "colab": {
          "base_uri": "https://localhost:8080/"
        },
        "outputId": "78dac025-c871-4e7f-958d-6aa1f0a71bff"
      },
      "outputs": [
        {
          "output_type": "stream",
          "name": "stdout",
          "text": [
            "Inertia is =  2.7311773333333334e-13\n",
            "Length (cm) = 7.480151800614679\n",
            "theta_m is in deg = 13.530228612441633\n",
            "stress = 5.147851e+08\n",
            "max_stress = 5.250000e+08\n"
          ]
        }
      ],
      "source": [
        "import math\n",
        "import numpy as np\n",
        "\n",
        "# Constants in system (dont change)\n",
        "E = 2.1e+11 # Youngs Modulus (Pa)\n",
        "P = 7.4 # Force due to water acting on plate, in newtons\n",
        "delta_max = 0.018 # in meters (distance plate moves over)\n",
        "σmax = 5.25e+8\n",
        "\n",
        "# Variables in system (feel free to change to gain insight)\n",
        "width = 0.025 # Width in meters\n",
        "t = 0.02 # thickness of spring in inches\n",
        "\n",
        "def inertia(width,thickness):\n",
        "  \"\"\"\n",
        "  Parameters: width (in meters) and thickness of spring (in inches)\n",
        "  Return: Inertia of Spring\n",
        "  \"\"\"\n",
        "  inertia = ((width)*(thickness*0.0254)**3)/12\n",
        "  return inertia\n",
        "\n",
        "def length(inertia, youngs, distance, force):\n",
        "  \"\"\"\n",
        "  Parameters: young's modulus (Pa), distance plate moves over (M), and\n",
        "    force due to water on plate (N)\n",
        "  Return: Inertia of Spring\n",
        "  \"\"\"\n",
        "  length = ((3*inertia*youngs*distance)/force)**(1/3)\n",
        "  return length\n",
        "\n",
        "l = ((3*I*E*delta_max)/P)**(1/3) # Length (m)\n",
        "\n",
        "theta_m = math.atan(delta_max/l)\n",
        "\n",
        "σ1 = 6*P*l/(width*(t*0.0254)**2)\n",
        "\n",
        "print (\"Inertia is = \", inertia(width,t))\n",
        "print (\"Length (cm) =\", 100)\n",
        "print (\"theta_m is in deg =\",np.rad2deg(theta_m))\n",
        "#print (\"deform angle is (deg) =\",np.rad2deg(deform_angle))\n",
        "print('stress =',f\"{σ1:e}\")\n",
        "print('max_stress =', f\"{σmax:e}\")"
      ]
    }
  ]
}