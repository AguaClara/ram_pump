{
  "nbformat": 4,
  "nbformat_minor": 0,
  "metadata": {
    "colab": {
      "name": "Summer 2022 Final Report.ipynb",
      "provenance": [],
      "collapsed_sections": [],
      "include_colab_link": true
    },
    "kernelspec": {
      "name": "python3",
      "display_name": "Python 3"
    }
  },
  "cells": [
    {
      "cell_type": "markdown",
      "metadata": {
        "id": "view-in-github",
        "colab_type": "text"
      },
      "source": [
        "<a href=\"https://colab.research.google.com/github/AguaClara/ram_pump/blob/master/Summer_2022_Final_Report.ipynb\" target=\"_parent\"><img src=\"https://colab.research.google.com/assets/colab-badge.svg\" alt=\"Open In Colab\"/></a>"
      ]
    },
    {
      "cell_type": "markdown",
      "metadata": {
        "id": "sNv8dIrSCc6X"
      },
      "source": [
        "# AguaClara Final Report Ram Pump Summer 2022\n",
        "#### August 4, 2022"
      ]
    },
    {
      "cell_type": "markdown",
      "metadata": {
        "id": "TLAmaRBfCmiy"
      },
      "source": [
        "Ram Pump, Summer 2022\n",
        "#### Authors: Sarah Bae, Isabel Crovella, Katie Lee, Aleksandra Marjanovic\n",
        "#### Date: August 4, 2022\n"
      ]
    },
    {
      "cell_type": "markdown",
      "metadata": {
        "id": "BfeU4k7OCphn"
      },
      "source": [
        "## Abstract\n",
        "The Ram Pump Summer 2022 team worked to optimize the working model of the ram pump system in order to limit necessary physical labor in AguaClara plants in Nicaragua, Honduras, and India. The team members used experimentation heavily as opposed to the previously preferred method of theoretical determination to construct a simplified spring configuration, as well as several other modifications to their laboratory model of the ACVRP (AguaClara Vertical Ram Pump). In trying to make the ram pump system more efficient and simple, the team found a stable single-spring configuration by testing spring constant values in conjunction with different displacement ranges of valve openings.  While further data needs to be collected to ensure that the model will work in any AguaClara plant, multiple successful trials of the ram pump have been recorded this summer. The final goal of the team is to find an easy way for AguaClara plant operators to calibrate and adjust the spring configuration of the ram pump to ensure optimal performance.  "
      ]
    },
    {
      "cell_type": "markdown",
      "metadata": {
        "id": "EqtwU-gRCrj9"
      },
      "source": [
        "## Introduction\n",
        "\n",
        "Ram Pump was designed to pump treated water back up to the chemical stock tanks to maintain a consistant flow of solvent, as seen in Figure 1. Currently, this work is done by the AguaClara plant operators with buckets and physical labor. With ram pump, the operators would be able to omit this step.  \n",
        "\n",
        "<img src=\"https://docs.google.com/drawings/d/e/2PACX-1vTPJO6DvmcUknSQjd-5-97qA92qoXix1wcK_2e1WACg0SRRZNUpHiBAdc244pdjjkFaeFqM-hl_YPLf/pub?w=414&amp;h=380\" width=1000>\n",
        "Figure 1. The Ram Pump in the Context of the AguaClara Plant\n",
        "\n",
        "The current AguaClara Ram Pump has a vertical design, different than the conventional horizontal pump. The vertical design is relatively efficient as it eliminates wasted water. Instead, the water that does not flow to the chemical stock tanks but is still used in the system is redirected back to the filtered, untreated water tank. \n",
        "\n",
        "Figure 2 shows the setup of the current ram pump working model. Ram Pump operation starts with water falling through a pipe from the head tank. The check valve located inside the pipe initially is in an open position. The water travels down until the drag eventually closes the check valve. As the check valve closes, pressure builds up in the pipe, opening the side valve on the ram pump. The high pressure shoots the water up towards the stock tank. Once the pressures equalize in both pipes, the valve on the ram pump closes. As the pressure drops, it opens up the valve again. The cycle continues. The pump system that the summer team is working with mimics the conditions of the plant by having an air pressure chamber instead of piping to the stock tanks and a sump pump pumping water into the head tank mimicking a large volume of water in the head tank.\n",
        "\n",
        "<img src=\"https://docs.google.com/drawings/d/e/2PACX-1vQeksZ9PWHKDkL919X6rSkVhuO1eiEyopddgSfC9TN4A0epobO11qStEBjjmDkp8PSfi93oddFj7y4-/pub?w=570&amp;h=722\" width=1000>\n",
        "Figure 2. Diagram of Current Ram Pump Lab Setup\n",
        "\n",
        "The bottom check valve leading to the tub with water is controlled by a wire connected to a spring. The spring controls when the valve opens and closes. Determining the right spring is crucial for successful performance of the ram pump. In our ram pump design, the ram pump is connected to an air chamber with a pressure sensor attached to the top. The pressure sends data to ProCoDa. The pressure graph created by this data mimics how far the water can travel up because the pressure in the air chamber essentially functions as the force the water needs to overcome in order to travel vertically a certain distance. The pressure readings can be equated to a certain distance meaning that as the pressure in the air chamber increases, the distance upwards that the water can travel increases as well. The ideal readings should be higher than at least 4m so that the water can reach the solvent tanks. The team searched for a spring that would be able to reach 5 meters.\n",
        "\n",
        "One of the experiments that the team focused on was pushing the system until failure. By doing so, the team could make improvements to the past 2-spring configuration. While the team adjusted the length of the top weak spring to see where it would fail, the team discovered that the bottom strong spring works on its own when the weak spring is completely relaxed. The team was able to find a simpler single spring configuration. \n",
        "\n",
        "The team also searched for ways the pump would work on its own. For easy use, it is preferable for the pump to start automatically, with no interventions from the plant operators. The team ran into problems with the system not starting on its own, such as the valve failing in a closed position. The team mimicked the conditions of the plant to find the right length/strength spring and position for the system to start on its own. After testing out multiple springs, the team found that strong shorter springs were the most ideal. \n",
        "\n",
        "The K values of various springs were found using a force sensor and measuring the distance between a stretched and relaxed spring. These spring constants were found after determining that springs with higher spring constants which were more difficult to stretch worked the best in the system. The values were essential to find in this experiment because of the K value determines how much force the spring either generates by extending or requires to contract. Next steps would be to choose the most ideal spring between the spring constants that work. "
      ]
    },
    {
      "cell_type": "markdown",
      "metadata": {
        "id": "FLDOXtNqCtAW"
      },
      "source": [
        "## Literature Review and Previous Work\n",
        "To understand the spring configuration, it is important to mention the Summer 2021 Ram Pump team, Isabelle Breedveld and Joseph Yoon. Their primary task was finding the optimal flow rate and optimal spring force required to have the ram pump working efficiently. They accomplished this by experimenting with the equilibrium length of the springs in the spring setup, which consisted of three springs at the time. In terms of relativity to our experiments, their work was significant in that they implemented the two spring system that we orignally were working with in our ram pump. The Summer 2021 team's work with investigating the optimal spring force is what helped our team further find that only one spring is actually needed to get the ram pump, fueling our experiments for the summer to find the optimal equilibrium spring length.\n",
        "\n",
        "The Summer 2021 team was able to determine a terminal velocity value from experimentation and that value was used in the theoretical calculation of the time it takes to close the valve. The Summer 2022 team also plans that future teams utilize Summer 2021's theoretical framework to measure the efficacy of their system for future experiments concerning the closing time of the valve. "
      ]
    },
    {
      "cell_type": "markdown",
      "metadata": {
        "id": "A9c0Dr8rCujT"
      },
      "source": [
        "## Methods\n",
        "\n",
        "Initial work had to be done on the system for the parts to function correctly and mimic how the ram pump operates in the AguaClara plants. Improvements to the design were made, including the following, before different spring types were tested on the system. \n",
        "\n",
        "###Improvements to design (leaks)\n",
        "\n",
        "The most vital parts of our performance readings are water-sensitive. We had to ensure that there were no leaks and the system was stopped before failure if there were to be a leak or splash which could affect our sensors or computer. Tubing was added so that the water-sensitive technologies would be consildated to one area that was furthest away from any open water source, which can be seen in Figure 3. \n",
        "\n",
        "<img src=\"https://docs.google.com/drawings/d/e/2PACX-1vQcS0FfUtngEYooum2FpgwBlMb2qp-ws5Bv8l7036bPfHFJ3MQiXeEQvzyXidvYh3cYCbzwLxpby_3-/pub?w=307&amp;h=388\" width=1000>\n",
        "Figure 3. Current laboratory setup of ram pump system\n",
        "\n",
        "One change was to put a lid on our head tank to prevent upwards splashing that would interfere with the spring, and could leak onto the water-sensitive areas. A flat, clear PVC was drilled and the cable was run through it, which can be seen at the top of Figure 4. \n",
        "\n",
        "<img src=\"https://docs.google.com/drawings/d/e/2PACX-1vRZFGdW6qE33r2C_KLJ87-oRdYtNfgxFSxJid8DCKLjn3MkloYjizkNCmdSLeiIGIbb_PVLL-ds_lco/pub?w=559&amp;h=526\" width=1000>\n",
        "Figure 4. Head Tank with PVC lid\n",
        "\n",
        "There were leaks occurring in other areas of the PVC, particularly in the pipe directing water from the sump pump to the head tank. There was more tightening to the unions to prevent these leaks that could disrupt the measurement and the time it takes to reach stabilization. \n",
        "\n",
        "There was also an issue with the sump pump pumping only air at times and this was caused by the water shooting from the waste valve check, and causing disturbance in the water that would form bubbles that would be sucked into the sump pump. Forming these air pockets, it would pump only dry air, which is dangerous for the sump pump and caused inconsistent data. The fix was to attach an elbow PVC piece at the bottom of the waste check valve, as seen in Figure 5, to redirect the flow away from the sump pump.\n",
        "\n",
        "<img src=\"https://docs.google.com/drawings/d/e/2PACX-1vRT3kUQ325LDKFY2ucSdDGZUZv3cQt79pVjFfki4dk2Tgbldl1Mym1Pj1wTsIVRJ6Pr0W1XambuTd15/pub?w=564&amp;h=536\" width=1000>\n",
        "Figure 5. Waste Flow Redirected with PVC elbow\n",
        "\n",
        "###General Spring Test Descriptions\n",
        "Once we successfully installed the sump pump, we experimented with the two spring setup that was currently in place by adjusting the height of the weak spring until it was fully relaxed and determined that only one spring was needed for the system, concluding that the strong spring could operate the ram pump by itself. We ran the ram pump with the new single spring system and adjusted the strong spring's height on the adjuster to see where the ram pump was actually working successfully and where it failed so that we could have a range of successful spring heights that would allow us to further determine the ideal height at which to place the spring for an optimal system. While running the ram pump, we compared the height equivalence of the pressure in the air chamber to previous team's testing, monitored the thumping sounds of the ram pump to spot any irregularities, and took note of whether the valve was initially open or closed as well as by how much so we had a base as to which additional experiments to perform. This is what we classified as our first round of experiments.\n",
        "\n",
        "After running the ram pump successfully with the strong spring, we chose a range of springs to test, making sure to work with a wide range of strengths and lengths to ensure that we were truly finding the most optimal spring setup. In order to have some controls in the testing, all the springs had the same spring force but different displacements and spring constants. We changed the spring constant by adjusting the number of coils and therefore the length of the spring itself. Our main testing was with the original strong spring, which was classified as the \"medium length strong spring\", and a shorter length spring, which was classified as the \"short length strong spring\". In terms of how we classified the springs, we had two strength categories for the springs that we based off physical observations of the springs, putting them into the categories of \"strong\" and \"weak\". We also initially had three classifications for the lengths of the springs, putting them into the categories of \"long\", \"medium\", and \"short\". After some testing, especially in our third experiment, we added in more categories for length, extending it to include a \"very short\" spring and \"even shorter\" spring, with the \"very short\" spring being half of the length of the \"short\" spring and the \"even shorter\" spring being half the length of the \"very short\" spring. We made these classifications to help simplify our notes for smoother testing while still recording the lengths of the springs while in rest, the stretching at which was being tested, and the height of the spring on the adjuster. As a result of the confusion that could arise from these different classifications, however, the team tabulated the springs used for Experiments 2 and 3. As seen in Table 1 in the Results/Analysis Section, each spring was classified by the number of coils it had, as well as either the wider coil (W) or the skinnier coil (S). These tests together make up experiment two.\n",
        "\n",
        "From our Experiments 1 and 2, we came up with the hypothesis that springs with higher spring constant values seemed to be the best ones for the system, which became the focus of our third experiment. We testing out a variety of different springs to find a range of spring constant values that worked best for our ram pump system.\n",
        "\n",
        "For the first two rounds of testing, our independent variable was the amount the valve was open in addition to the location of the spring on the adjuster. We wanted to find the ideal placement and position for each spring to find the maximum pressure in the air chamber that would equate to maximum height to which the water can travel, which was our dependent variable. By the third experiment, as we found more conclusions, our independent variable became the spring constant and seeing whether adjusting it would affect the the pressure in the air chamber once again. For all testing, our dependent variable remained the same.\n",
        "\n",
        "To ensure accuracy in our methodology, most of the testing was performed with more than one member on site and if only one individual was testing, they updated the rest of the team on the specifics of what was completed. In addition, all tests were done from a reference point and most positions were measured by either a tape measure or caliper, which significantly increased the accuracy of our numbers. \n",
        "\n",
        "###Testing Spring constant value\n",
        "The K values of the working springs were calculated using a force sensor:\n",
        "\n",
        "1. Attach one end of spring to force sensor and other end to an object.\n",
        "2. Record the weight of the object and measure/record the length of the elongated spring using a caliper. \n",
        "3. Detach the spring and record the length of the relaxed spring using a caliper. \n",
        "\n",
        "####Calculations of Spring Constant Values\n",
        "\n",
        "Spring 1 (Short spring):\n",
        "\n",
        "<center>mass $= 1.2 lbs = 0.544 kg$</center>\n",
        "\n",
        "<center>resting spring length $= 0.5100 in$</center>\n",
        "\n",
        "<center>stretched length $= 1.0510 in$</center>\n",
        "\n",
        "<center>difference in length $= 1.0510 in - 0.5100 in = 1.541 in = 0.01374 m$</center>\n",
        "\n",
        "$$F=kx$$\n",
        "\n",
        "$$mg=kx$$\n",
        "\n",
        "$$(0.544 kg)(9.81 m/s^2) = k_1 (0.01374m)$$\n",
        "\n",
        "$$k_1 = 388.401747 N/m$$"
      ]
    },
    {
      "cell_type": "markdown",
      "metadata": {
        "id": "TPiP9gijC3GV"
      },
      "source": [
        "## Results and Analysis\n",
        "\n",
        "##Experiment #1\n",
        "\n",
        "The primary observation in our first experiment was testing out the efficacy of the weak-strong spring configuration, seen in Figure 6. The system was working; however, the two springs were not working as predicted. This system’s purpose is to have two different spring forces: one weak spring force for the closing of the valve and the strong spring being the force that re-opens the valve. However, what we were observing was that the strong spring was completing all of the work, while the weak spring stayed relatively static. We isolated these two springs and had them work the Ram Pump by themselves. The result was that the weak spring was not able to start the Ram Pump and the strong spring was able to do so. This proved that there were certain distinctions between the strong and weak spring that determined the success. Also, we were able to identify a functioning system with just the strong spring alone, as shown in Figure 7. Prioritized standards of the ACVRP (AguaClara Vertical Ram Pump) is to minimize costs of materials and overall labor, and having a one spring system would address both of these standards. This led to us searching and isolating variables that determined the success of the Ram Pump. \n",
        "\n",
        "<img src=\"https://docs.google.com/drawings/d/e/2PACX-1vRYZAtS-U0Bl_gOSz8P3GKA2a2CaaW_cPj4DT0yZRy0B0sSiNQ_Xds8oUWsr0iZeOwp3WRGbcboCthN/pub?w=233&amp;h=296\" width=1000>\n",
        "Figure 6. Weak and Strong Spring in Series Configuration\n",
        "\n",
        "<img src=\"https://docs.google.com/drawings/d/e/2PACX-1vR51KF7bRiDUqoH7NmFyUhWElsnWSf3TCSGxulLP5TZ5vMrIa5CLEJe3DtykMh0j4YIjZt2OqoPcw7l/pub?w=219&amp;h=303\" width=1000>\n",
        "Figure 7. Single Spring Configuration: 13W Spring shown\n",
        "\n",
        "We were able to identify a distance from a marked point on the adjuster that would result in success using the strong spring from the original weak-strong spring system. We originally referred to this spring as the medium-length strong spring (MLSS), which eventually became the 13W spring. We tested in intervals of 1/16 of an inch or 1.5875 mm to test when the system was meeting the quota of 5 meters of pumped water, and a stable enough system with little to no drops in pressure readings. The only value that met this quota was at the height 7.375 inches or 18.7325 cm from the bottom of the rod, to the adjuster.\n",
        "\n",
        "An example of the daily data gathered from a single run is shown in Figure 8. The 13W Spring was then tested with 5 trials for each distance at which it worked, including 1/16 - 4/16 inches below where the valve is fully open. This data, compiled in Figure 9, shows these distances and how well they operated. Figure 10 depicts these data in a graph, which provides a visualization for how as the distance from the valve being fully open increases(i.e. as the valve is only allowed to open smaller distances), the higher the pressure generated in the air chamber and therefore the better the system operates. \n",
        "\n",
        "<img src=\"https://docs.google.com/drawings/d/e/2PACX-1vTjYdX-YVHxJDSGJOoJ_skNcCP7cw54Lnyox8Vl7K7iu2fDvbUUUDd5acBdaDTThP0hN_gRKPA9iTp-/pub?w=458&amp;h=298\" width=1000>\n",
        "Figure 8. Data of Pressure Readings from the Air Chamber with respect to Time Take on 7/6 with 13W Spring\n",
        "\n",
        "<img src=\"https://docs.google.com/drawings/d/e/2PACX-1vTg-UReDhayKqghgbIuTIP0jHaSn13BpFV5_voyzXZBREo41KvW2j86yLtAL8IE5MKS_dh2s9bV42sZ/pub?w=531&amp;h=512\" width=1000>\n",
        "Figure 9. 13W Spring Runs Compilation\n",
        "\n",
        "<img src=\"https://docs.google.com/drawings/d/e/2PACX-1vQhgHwcGuh6cEc4fiflCVWGSoOx6gULpElFODJkdBDoC39RzUmhKIOdG3maIwhH5KAR0fv4aLWxemfI/pub?w=939&amp;h=593\" width=1000>\n",
        "Figure 10. 13W Spring Runs Graphed versus Distance Below Valve Fully Open\n",
        "\n",
        "There were two significant features of this functioning spring configuration. First off, the functioning spring, 13W, had a higher spring constant than the weak spring which never worked. Secondly, the only height at which the 13W spring functioned was where the spring was relaxed and the valve was first fully open. From these observations, we determined that both the spring constant and the amount of the valve was open were the two main variables to isolate and test for the next experiment. \n",
        " \n",
        "##Experiment 2##\n",
        "\n",
        "The next experiment was to test these two variables as determinants for success. After measuring the distance from opening to closing of the valve (15.875 mm), and assuming that was the displacement (delta x) of the spring when the Ram Pump was functioning, we would be able to calculate the spring force of each spring at each respective height. We used Hooke’s Law: \n",
        "\n",
        "$$F = kx$$\n",
        "\n",
        "We cut another spring, that was the same material as the 13W, to about half the number of coils as the 13W and referred to that as the short-length strong spring (SLSS), and later as the 6W spring. By Hooke’s Law, assuming this was an ideal spring, the spring constant would double and the displacement would need to be halved in order for the spring force to be equivalent to one another. Knowing the distance that the 13W spring travels in a cycle (15.875 mm), again assuming that the valve closes and reopens to the starting position, we can compare the spring force to that of the 6W spring that travels half that distance in a cycle (7.9375 mm). We tested both of these springs at their respective distances, and discovered the 6W spring did function at 7.9375 mm. In fact, it had a larger range (1.5875mm-7.9375 mm) because of its length. The significance of this result is that it proved that no matter the amount the valve is open, fully open at starting position on starting at half open, the Ram Pump is able to start at some point depending on the spring’s characteristics. One major spring characteristic being spring constants. \n",
        " \n",
        "##Experiment 3##\n",
        "We next tested out a range of spring constants that resulted in success, because as seen in Experiment 1, there are springs that are not able to work no matter the amount the valve is open. We began testing initially with the head tank empty, but then after receiving feedback, began testing with the head tank full because it would be more closely related to the conditions on the plant. We measured the spring constant of each spring available to us, and then were able to discern if it was usable for the system. We then summarized this data into Table 1. The range of spring constants that we were able to define as working was: 842.1398 N/m ≤ ks ≤ 2881.21216 N/m. For the lower bound of failure, we were able to determine that it was a value 679.25 N/m ≤ kf < 842.1398 N/m. For the upper bound of failure, we were unable to test a value higher than 2881.21216 N/m due to the lack of available springs. However, we did attempt at constructing a parallel spring system, but it caused uneven oscillations and invalid data for our objectives.\n",
        "\n",
        "<img src=\"https://docs.google.com/drawings/d/e/2PACX-1vQvHXdC-KzQUsj9izWhMPXxFi_4l5DxFk_eA8mcQAvMD9hoSNHcS3C4KuN07v1DQDwP7Fp58DIaBEwT/pub?w=344&amp;h=320\" width=1000>\n",
        "Table 1. Compilation of Coil/Type and Experimentally Determined Spring Constants\n",
        "\n",
        "We are able to deem a workable system for the constraints in the laboratory system, and now we will be focusing on making this system more adaptable to different conditions on the AguaClara plant. For the system we have currently, we know the behavior of the system and how they can be altered and measured for success. \n",
        "\n",
        "\n",
        "##Theoretical Closing Time Calculations##\n",
        "\n",
        "In order to understand the behavior of the fluid more closely, we are planning on setting up a high-speed camera that will be able to capture the time it takes for the valve to fully open and close and the distance it travels during stabilizations. We have cameras available to us, however, we needed to be able to determine if our cameras would be able to capture the frames necessary. To do that, we set up a force balance equation with the following variables:\n",
        "\n",
        "<center>$P$ = pressure of air chamber</center>\n",
        "\n",
        "<center>$A$ = area of valve</center>\n",
        "\n",
        "<center>$V$ = volume of pipe above closed valve</center>\n",
        "\n",
        "<center>$\\rho$ = density of water</center>\n",
        "\n",
        "<center>$h$ = height of pipe above valve</center>\n",
        "\n",
        "<center>$h_{a}$  = height equivalent of pressure in air chamber</center>\n",
        "\n",
        "<center>$\\alpha$ = acceleration of the water</center>\n",
        "\n",
        "The force balance equation was found as followed:\n",
        "\n",
        "$$F=m\\alpha, m=V\\rho$$\n",
        "$$F=V\\rho\\alpha, F=PA$$\n",
        "$$PA=V\\rho\\alpha, V=hA$$\n",
        "$$PA=hA\\rho\\alpha\\to P=h\\rho\\alpha$$\n",
        "$$\\alpha=\\frac{P}{h\\rho}, \\alpha=\\frac{\\Delta V}{\\Delta t}$$\n",
        "$$\\frac{\\Delta V}{\\Delta t}=\\frac{P}{h\\rho}$$\n",
        "$$\\Delta t=\\frac{\\Delta Vh\\rho}{P}, \\Delta V=V_{max}-0$$\n",
        "$$\\Delta t=\\frac{V_{max} h\\rho}{P}, P=\\rho gh_{a}$$\n",
        "$$\\Delta t=\\frac{V_{max} h\\rho}{\\rho gh_{a}}\\to \\Delta t=\\frac{V_{max} h}{gh_{a}}$$\n",
        "\n",
        "###Final Equation: \n",
        "$$\\Delta t=\\frac{V_{max} h}{gh_{a}}$$\n",
        "\n",
        "####Using this Equation with Numbers: \n",
        "$$\\Delta t=\\frac{1.603 \\frac{m}{s} 1.346m}{9.81 \\frac{m}{s^2}{5.7m}}$$\n",
        "$$\\Delta t=0.0386 sec$$\n"
      ]
    },
    {
      "cell_type": "markdown",
      "metadata": {
        "id": "4m-fx7GnC6a-"
      },
      "source": [
        "## Conclusions\n",
        "Our findings prove that there is now a usable, stable, and simplified model that can be implemented into AguaClara plant. As long as materials are acquired, we would be able to input the system into a plant. We have minimized the amount of calibration required for the system and the materials that go into building one ACVRP. With our one spring system, for the construction of the system, all that needs to be done for the spring configuration is buy a spring constant that is within the range of projected working spring constants (ie: 842.1398 N/m ≤ ks ≤ 2881.21216 N/m). Then, teach plant operators what height the spring should be at in its starting position, and once the pump is started, it will be autonomous. \n",
        "\n",
        "The next move is to define a clear calibration technique and make our system more adaptable to conditions at the AguaClara plant. Our laboratory model accounts for a very specific set of conditions, and we need to create a measure and techniques of performance that are adaptable and dimensionless. "
      ]
    },
    {
      "cell_type": "markdown",
      "metadata": {
        "id": "QbOeP4KiC7p2"
      },
      "source": [
        "## Future Work\n",
        "As of now, we have conclusively found a method that works for our labratory model and our next steps could be as follows:\n",
        "\n",
        "Before starting testing, the next ram pump team should plan replace parts of the PVC surrounding the waste check valve with a stronger material such as steel. The first goal for next semester's team is to find the upper bound of failure for the spring constants. With that, we would have a better idea and potentially define the spring configuration that results in the maximum flow rate and a higher height of water if needed. \n",
        "\n",
        "In addition to determining the bounds of failure for spring constants and lengths, the team will plan to use a high-speed camera to observe if the valve is fully re-opening and closing because currently the assumption is that it is returning back to its starting position. \n",
        "\n",
        "Another goal for ram pump in the future is to create a method of calibration for plant operators for the system we currently have. This could use visual or auditory observations and measurements, like by looking if water levels are increasing an appropiate amount in the chemical stock tank or listening to the number of oscillations per minute. In addition, our team should plan on making our system more adaptable to varying conditions at AguaClara plants. This means understanding the physics and behavior of the fluids completely to have a system able to be altered to different driving heads, different required flow rates, size of tanks, etc. \n",
        "\n",
        "Finally, the ram pump team wants to investigate a Betz' Limit. As there is a Betz' Limit for wind turbines, see that if one exists with a traditional ram pump or with our very own ACVRP. \n"
      ]
    },
    {
      "cell_type": "markdown",
      "metadata": {
        "id": "fZyCYDraC80B"
      },
      "source": [
        "## Bibliography\n",
        "Logan, B. E., Hermanowicz, S. W., & Parker,A. S. (1987). A Fundamental Model for Trickling Filter Process Design. Journal (Water Pollution Control Federation), 59(12), 1029–1042."
      ]
    },
    {
      "cell_type": "markdown",
      "metadata": {
        "id": "oDYGZ4TkC-H2"
      },
      "source": [
        "# Manual\n",
        "General set-up before each run: \n",
        "1. Head tank and drive pipe are empty, if not, drain water by tugging with the cord and spring. \n",
        "1. Drain the air chamber if any water, use the golander and the settings on ProCoda to Persistaltic Only. Make sure to always start each run at relatively the same pressure reading \n",
        "1. Set up Data-logging by pressing \"log\" button on ProCoda, and should make a separate file on Desktop or wherever designated location is. Once run is over, click again to stop collecting data. Change data rate depending on what data needs to be collected. \n",
        "1. To start, use ProCoda and change the state to \"sump pump and Persitaltic on\"\n",
        "1. Ensure that there is enough water in the tub with the sump pump, enough so that the sump pump is at least 1/2 submerged, but not too much that the waste valve pipe is submerged completely. \n",
        "\n",
        "###Experiment 1###\n",
        "1. Put weak and strong spring in parallel with one another \n",
        "1. Start the Ram Pump through ProCoda\n",
        "1. Make observations (any irregularities in pump cycles, general trends, differences between runs, sudden drops in pressure, etc.)\n",
        "\n",
        "###Experiment 2###\n",
        "1. Start with 2 of the same spring (in our case the 13W spring), and cut one of them in half. \n",
        "1. Place one of them attached to the cord and the other loop attached to the eyelet. \n",
        "1. Begin testing and slowly adjust the height of the spring until it produces consistent oscillations, meaning pump cycles do not vary with respect to time or noise level. \n",
        "1. Do the same with the half length spring, but starting at half the relative height at which the full spring was able to work. \n",
        "1. Begin testing and slowly adjust the height of the spring until it produces consistent oscillations. \n",
        "\n",
        "###Experiment 3###\n",
        "\n",
        "1. Measure the spring constant value of each spring using the method mentioned in the Methods section of this report. \n",
        "1. Begin testing and slowly adjust the height of the spring until it produces consistent oscillations. \n",
        "1. Repeat this and record the pressure readings, the height(s) at which it is able to work\n",
        "1. If needed, start with the head tank full and then begin the testing. The spring can just be held up with a hand. \n"
      ]
    }
  ]
}